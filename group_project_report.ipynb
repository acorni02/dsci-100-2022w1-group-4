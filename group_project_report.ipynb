{
 "cells": [
  {
   "cell_type": "markdown",
   "id": "3229a85d-f5d1-4c5e-8e60-4a8a768ff08e",
   "metadata": {},
   "source": [
    "Title:"
   ]
  },
  {
   "cell_type": "markdown",
   "id": "7506c3de-31f7-47e0-9b55-c94344770de1",
   "metadata": {},
   "source": [
    "Introduction:"
   ]
  },
  {
   "cell_type": "code",
   "execution_count": null,
   "id": "f91a542b-671b-4908-9337-167a08e64972",
   "metadata": {},
   "outputs": [],
   "source": []
  }
 ],
 "metadata": {
  "kernelspec": {
   "display_name": "R",
   "language": "R",
   "name": "ir"
  },
  "language_info": {
   "codemirror_mode": "r",
   "file_extension": ".r",
   "mimetype": "text/x-r-source",
   "name": "R",
   "pygments_lexer": "r",
   "version": "4.1.3"
  }
 },
 "nbformat": 4,
 "nbformat_minor": 5
}
