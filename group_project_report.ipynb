{
 "cells": [
  {
   "cell_type": "markdown",
   "id": "3229a85d-f5d1-4c5e-8e60-4a8a768ff08e",
   "metadata": {},
   "source": [
    "Group Project Report : Heart Disease\n",
    "-"
   ]
  },
  {
   "cell_type": "markdown",
   "id": "0c881a9d-3854-4c48-9e48-41e0f181ba9e",
   "metadata": {},
   "source": [
    "Introduction:\n",
    "As of 2020, heart disease was one of the most leading factors contributing to death worldwide. The most common cause of heart disease is a buildup of fatty plaques in the arteries. Risk factors for heart disease include a poor diet, lack of exercise, obesity, and smoking. Symptoms of heart disease include rapid heart rate, chest pain, and shortness of breath. \n",
    "\n",
    "- What variables can be used to accurately predict whether or not someone likely has heart disease, or is at risk for heart disease?\n",
    "\n",
    "The data set that will be used is \"https://archive.ics.uci.edu/ml/machine-learning-databases/heart-disease/processed.cleveland.data\" and it contains 14 attributes which state the quantitative variables that are of interest in regard to heart disease factors: \n",
    "- 1. age: age in years\n",
    "- 2. sex: sex (1 = male; 0 = female)\n",
    "- 3. cp: chest pain type \n",
    "- 4. trestbps: resting blood pressure (in mm Hg)\n",
    "- 5. chol: serum cholestoral in mg/dl\n",
    "- 6. fbs: (fasting blood sugar > 120 mg/dl)\n",
    "- 7. restecg: resting electrocardiographic results\n",
    "- 8. thalach: maximum heart rate achieved\n",
    "- 9. exang: exercise induced angina\n",
    "- 10. oldpeak = ST depression induced by exercise relative to rest\n",
    "- 11. slope: the slope of the peak exercise ST segment\n",
    "- 12. ca: number of major vessels (0-3) colored by flourosopy\n",
    "- 13. thal: 3 = normal; 6 = fixed defect; 7 = reversable defect\n",
    "- 14. num: diagnosis of heart disease (angiographic disease status)."
   ]
  },
  {
   "cell_type": "code",
   "execution_count": null,
   "id": "09c3392f-54f1-4a1f-9d26-7681227059bc",
   "metadata": {},
   "outputs": [],
   "source": []
  }
 ],
 "metadata": {
  "kernelspec": {
   "display_name": "R",
   "language": "R",
   "name": "ir"
  },
  "language_info": {
   "codemirror_mode": "r",
   "file_extension": ".r",
   "mimetype": "text/x-r-source",
   "name": "R",
   "pygments_lexer": "r",
   "version": "4.1.3"
  }
 },
 "nbformat": 4,
 "nbformat_minor": 5
}
