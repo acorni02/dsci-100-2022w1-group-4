{
 "cells": [
  {
   "cell_type": "markdown",
   "id": "3229a85d-f5d1-4c5e-8e60-4a8a768ff08e",
   "metadata": {},
   "source": [
    "Group Project Report : Heart Disease\n",
    "-"
   ]
  },
  {
   "cell_type": "markdown",
   "id": "0c881a9d-3854-4c48-9e48-41e0f181ba9e",
   "metadata": {},
   "source": [
    "Introduction:\n",
    "As of 2020, heart disease was one of the most leading factors contributing to death worldwide. The most common cause of heart disease is a buildup of fatty plaques in the arteries. Risk factors for heart disease include a poor diet, lack of exercise, obesity, and smoking. Symptoms of heart disease include rapid heart rate, chest pain, and shortness of breath. Gaining an acuurate and useful diagnosis from a doctor can be quite tedious and time consuming. A digital classifier could help speed up the process of diagnosis and decrease possible risks to health. \n",
    "\n",
    "The question we will be adressing is; What variables can be used to accurately predict whether or not someone likely has heart disease, or is at risk for heart disease? {IS THIS ACCURATE, DO WE HAVE A NEW QUESTION?}\n",
    "\n",
    "The data set that will be used is \"https://archive.ics.uci.edu/ml/machine-learning-databases/heart-disease/processed.cleveland.data\" and it contains 14 attributes which state the quantitative variables that are of interest in regard to heart disease factors: \n",
    "- 1. age: age in years\n",
    "- 2. sex: sex (1 = male; 0 = female)\n",
    "- 3. cp: chest pain type \n",
    "- 4. trestbps: resting blood pressure (in mm Hg)\n",
    "- 5. chol: serum cholestoral in mg/dl\n",
    "- 6. fbs: (fasting blood sugar > 120 mg/dl)\n",
    "- 7. restecg: resting electrocardiographic results\n",
    "- 8. thalach: maximum heart rate achieved\n",
    "- 9. exang: exercise induced angina\n",
    "- 10. oldpeak = ST depression induced by exercise relative to rest\n",
    "- 11. slope: the slope of the peak exercise ST segment\n",
    "- 12. ca: number of major vessels (0-3) colored by flourosopy\n",
    "- 13. thal: 3 = normal; 6 = fixed defect; 7 = reversable defect\n",
    "- 14. num: diagnosis of heart disease (angiographic disease status)"
   ]
  },
  {
   "cell_type": "markdown",
   "id": "adf285e0-f1c0-492c-a8e3-b43df79a09b1",
   "metadata": {},
   "source": [
    "Methods and Results \n",
    "-"
   ]
  },
  {
   "cell_type": "markdown",
   "id": "5aa57a8e-b78d-4bc5-89a5-083d21dd1f38",
   "metadata": {},
   "source": [
    "Describe in written English the methods you used to perform your analysis from beginning to end that narrates the code the does the analysis.\n",
    "Your report should include code which:\n",
    "- loads data from the original source on the web \n",
    "- wrangles and cleans the data from it's original (downloaded) format to the format necessary for the planned analysis\n",
    "- performs a summary of the data set that is relevant for exploratory data analysis related to the planned analysis \n",
    "- creates a visualization of the dataset that is relevant for exploratory data analysis related to the planned analysis\n",
    "- performs the data analysis\n",
    "- creates a visualization of the analysis \n",
    "\n",
    "note: all tables and figure should have a figure/table number and a legend"
   ]
  },
  {
   "cell_type": "markdown",
   "id": "728312f4-a432-48d3-9b8c-29277181647e",
   "metadata": {},
   "source": [
    "Disscussion\n",
    "-\n",
    "\n",
    "summarize what you found\n",
    "- discuss whether this is what you expected to find?\n",
    "- discuss what impact could such findings have?\n",
    "- discuss what future questions could this lead to?"
   ]
  },
  {
   "cell_type": "markdown",
   "id": "48ece272-0c3d-478e-b818-fb98e104d380",
   "metadata": {},
   "source": [
    "Refrences \n",
    "-\n",
    "- At least 2 citations of literature relevant to the project (format is your choice, just be consistent across the references). (MLA Formatting)\n",
    "    - “Cardiovascular Diseases (Cvds).” World Health Organization, World Health Organization, https://www.who.int/news-room/fact-sheets/detail/cardiovascular-diseases-(cvds). Acessed 23. Nov. 2022\n",
    "    - Virani, Salim S., et al. “Heart Disease and Stroke Statistics-2021 Update.” Circulation, 27 Jan. 2021, https://www.ahajournals.org/doi/10.1161/CIR.0000000000000950. Acessed 19. Nov. 2022\n",
    "- Make sure to cite the source of your data as well.\n",
    "    - UCI Machine Learning Repository: Heart Disease Data Set, https://archive.ics.uci.edu/ml/datasets/Heart%20Disease. Acessed 20. Oct. 2022"
   ]
  },
  {
   "cell_type": "code",
   "execution_count": null,
   "id": "83438475-6765-42f6-acc6-d732ad279a86",
   "metadata": {},
   "outputs": [],
   "source": []
  }
 ],
 "metadata": {
  "kernelspec": {
   "display_name": "R",
   "language": "R",
   "name": "ir"
  },
  "language_info": {
   "codemirror_mode": "r",
   "file_extension": ".r",
   "mimetype": "text/x-r-source",
   "name": "R",
   "pygments_lexer": "r",
   "version": "4.1.3"
  }
 },
 "nbformat": 4,
 "nbformat_minor": 5
}
