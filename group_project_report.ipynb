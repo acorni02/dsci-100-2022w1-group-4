{
 "cells": [
  {
   "cell_type": "markdown",
   "id": "3229a85d-f5d1-4c5e-8e60-4a8a768ff08e",
   "metadata": {},
   "source": [
    "Group Project Report : Heart Disease\n",
    "-"
   ]
  },
  {
   "cell_type": "markdown",
   "id": "0c881a9d-3854-4c48-9e48-41e0f181ba9e",
   "metadata": {},
   "source": [
    "Introduction:\n",
    "As of 2020, heart disease was one of the most leading factors contributing to death worldwide. The most common cause of heart disease is a buildup of fatty plaques in the arteries. Risk factors for heart disease include a poor diet, lack of exercise, obesity, and smoking. Symptoms of heart disease include rapid heart rate, chest pain, and shortness of breath. Gaining an acuurate and useful diagnosis from a doctor can be quite tedious and time consuming. A digital classifier could help speed up the process of diagnosis and decrease possible risks to health. \n",
    "\n",
    "The question we will be adressing is; Can you use Age and Maximum Heart Rate Achieved to accuratly predict the presence of heart disease? \n",
    "\n",
    "The data set that will be used is \"https://archive.ics.uci.edu/ml/machine-learning-databases/heart-disease/processed.cleveland.data\" and it contains 14 attributes which state the quantitative variables that are of interest in regard to heart disease factors: \n",
    "- 1. age: age in years\n",
    "- 2. sex: sex (1 = male; 0 = female)\n",
    "- 3. cp: chest pain type \n",
    "- 4. trestbps: resting blood pressure (in mm Hg)\n",
    "- 5. chol: serum cholestoral in mg/dl\n",
    "- 6. fbs: (fasting blood sugar > 120 mg/dl)\n",
    "- 7. restecg: resting electrocardiographic results\n",
    "- 8. thalach: maximum heart rate achieved\n",
    "- 9. exang: exercise induced angina\n",
    "- 10. oldpeak = ST depression induced by exercise relative to rest\n",
    "- 11. slope: the slope of the peak exercise ST segment\n",
    "- 12. ca: number of major vessels (0-3) colored by flourosopy\n",
    "- 13. thal: 3 = normal; 6 = fixed defect; 7 = reversable defect\n",
    "- 14. num: diagnosis of heart disease (angiographic disease status)"
   ]
  },
  {
   "cell_type": "markdown",
   "id": "adf285e0-f1c0-492c-a8e3-b43df79a09b1",
   "metadata": {},
   "source": [
    "Methods and Results \n",
    "-"
   ]
  },
  {
   "cell_type": "markdown",
   "id": "93a68e4f-0e86-4d78-b2df-fb7f349f2527",
   "metadata": {},
   "source": [
    "First, we are loading in all of the packages needed to run the functions used to make our classifier into our library.\n",
    "\n",
    "We have also used the `option()` function to only show the first 6 and last 6 rows of our dataset at a time."
   ]
  },
  {
   "cell_type": "code",
   "execution_count": 7,
   "id": "c7885de9-3d4e-4cbe-8326-92e5d5c66264",
   "metadata": {},
   "outputs": [],
   "source": [
    "# import libraries\n",
    "library(tidyverse)\n",
    "library(repr)\n",
    "library(tidymodels)\n",
    "options(repr.matrix.max.rows = 6)"
   ]
  },
  {
   "cell_type": "markdown",
   "id": "7f026102-2f2d-4eb7-9fbb-eb68cb320672",
   "metadata": {},
   "source": [
    "Next, we loaded the file, `https://archive.ics.uci.edu/ml/machine-learning-databases/heart-disease/processed.cleveland.data`, from the URL into R using the function `read_delim()`.\n",
    "\n",
    "Then we had to tidy the data because it did not contain column names and rows containing `?` instead of data had to be removed from the data set.\n",
    "\n",
    "We used the `rename()` function to set each of the 14 atributues in the data set to their corresponding names.\n",
    "\n",
    "Ex: age = X1."
   ]
  },
  {
   "cell_type": "code",
   "execution_count": 3,
   "id": "566cf965-85f3-410d-9832-9fd3325d6a90",
   "metadata": {},
   "outputs": [
    {
     "name": "stderr",
     "output_type": "stream",
     "text": [
      "\u001b[1mRows: \u001b[22m\u001b[34m303\u001b[39m \u001b[1mColumns: \u001b[22m\u001b[34m14\u001b[39m\n",
      "\u001b[36m──\u001b[39m \u001b[1mColumn specification\u001b[22m \u001b[36m────────────────────────────────────────────────────────\u001b[39m\n",
      "\u001b[1mDelimiter:\u001b[22m \",\"\n",
      "\u001b[31mchr\u001b[39m  (2): X12, X13\n",
      "\u001b[32mdbl\u001b[39m (12): X1, X2, X3, X4, X5, X6, X7, X8, X9, X10, X11, X14\n",
      "\n",
      "\u001b[36mℹ\u001b[39m Use `spec()` to retrieve the full column specification for this data.\n",
      "\u001b[36mℹ\u001b[39m Specify the column types or set `show_col_types = FALSE` to quiet this message.\n"
     ]
    }
   ],
   "source": [
    "heart_disease <- read_delim(\"https://archive.ics.uci.edu/ml/machine-learning-databases/heart-disease/processed.cleveland.data\", col_names = FALSE) |>\n",
    "                    rename(age =X1,\n",
    "                              sex = X2,\n",
    "                              cp = X3,\n",
    "                              trestbps = X4,\n",
    "                              chol = X5,\n",
    "                              fbs = X6,\n",
    "                              restecg = X7,\n",
    "                              thalach = X8, \n",
    "                              exang = X9,\n",
    "                              oldpeak = X10, \n",
    "                              slope = X11, \n",
    "                              ca = X12, \n",
    "                              thal = X13, \n",
    "                              num = X14) "
   ]
  },
  {
   "cell_type": "markdown",
   "id": "dfb31fc3-29c9-4c1d-a954-e5fc4c402b20",
   "metadata": {},
   "source": [
    "By creating a custom function, we are able to set all `?` equal to `NA`, then to remove all of the rows that contain `NA`. After that, all of the data is now organized into the proper columns, correctly titled, and all of the observations contain the correct data. "
   ]
  },
  {
   "cell_type": "code",
   "execution_count": 4,
   "id": "c45d8faa-f05b-44c1-93b5-dbea51d8a72c",
   "metadata": {},
   "outputs": [],
   "source": [
    "remove_qm <- function(x){\n",
    "    ifelse(as.character(x) == \"?\", NA, x)\n",
    "    }\n",
    "\n",
    "heart_disease_clean <- map_df(heart_disease, remove_qm) |> na.omit()"
   ]
  },
  {
   "cell_type": "markdown",
   "id": "076010f2-ad75-404a-906b-26093b23f048",
   "metadata": {},
   "source": [
    "Next, we wanted to only predicted whether or not the patient will have heart disease, so we used `mutate()` to created a column called `num_edited`, which contained whether a patient had heart disease or not as either \"Yes\" or \"No\".\n",
    "\n",
    "\"Yes\" being when `num` is equal to 1, 2, 3, or 4 and \"No\" being when `num` is equal to 0.\n",
    "\n",
    "Also using `mutate`, we set `num_edited` to be our factor by using the `as_factor()` function. This way we will be able to use `num_edited` as the variable we are classifying patients by."
   ]
  },
  {
   "cell_type": "code",
   "execution_count": 10,
   "id": "b7293da2-dc70-42f0-9b8b-b972e131553f",
   "metadata": {},
   "outputs": [],
   "source": [
    "heart_disease <- heart_disease_clean |> \n",
    "    mutate(num_edited = ifelse(num == \"0\", \"No\", ifelse(num == 1 | num == 2 | num == 3 | num == 4 , \"Yes\", NA))) |>\n",
    "                mutate(num_edited = as_factor(num_edited)) "
   ]
  },
  {
   "cell_type": "markdown",
   "id": "6b0e5227-8f66-492c-b166-4977e14fd6f0",
   "metadata": {},
   "source": [
    "We then want verify the levels in our factor `num_edited`. We do so using `pull()` and `levels()` to see the different categories that are in that column.\n",
    "It returns \"Yes\" and \"No\", because those are the variables we set it to in the previous block of code.\n",
    "\n",
    "Below we use the `group_by()`, `summarize()`, and `n` functions to find the number and percentage of patients with heart disease and without heart disease in our data set."
   ]
  },
  {
   "cell_type": "code",
   "execution_count": 5,
   "id": "2aa4ec70-7df9-4994-8d0c-73a594434ba8",
   "metadata": {},
   "outputs": [
    {
     "data": {
      "text/html": [
       "<style>\n",
       ".list-inline {list-style: none; margin:0; padding: 0}\n",
       ".list-inline>li {display: inline-block}\n",
       ".list-inline>li:not(:last-child)::after {content: \"\\00b7\"; padding: 0 .5ex}\n",
       "</style>\n",
       "<ol class=list-inline><li>'No'</li><li>'Yes'</li></ol>\n"
      ],
      "text/latex": [
       "\\begin{enumerate*}\n",
       "\\item 'No'\n",
       "\\item 'Yes'\n",
       "\\end{enumerate*}\n"
      ],
      "text/markdown": [
       "1. 'No'\n",
       "2. 'Yes'\n",
       "\n",
       "\n"
      ],
      "text/plain": [
       "[1] \"No\"  \"Yes\""
      ]
     },
     "metadata": {},
     "output_type": "display_data"
    },
    {
     "data": {
      "text/html": [
       "<table class=\"dataframe\">\n",
       "<caption>A tibble: 2 × 3</caption>\n",
       "<thead>\n",
       "\t<tr><th scope=col>num_edited</th><th scope=col>count</th><th scope=col>percentage</th></tr>\n",
       "\t<tr><th scope=col>&lt;fct&gt;</th><th scope=col>&lt;int&gt;</th><th scope=col>&lt;dbl&gt;</th></tr>\n",
       "</thead>\n",
       "<tbody>\n",
       "\t<tr><td>No </td><td>160</td><td>53.87205</td></tr>\n",
       "\t<tr><td>Yes</td><td>137</td><td>46.12795</td></tr>\n",
       "</tbody>\n",
       "</table>\n"
      ],
      "text/latex": [
       "A tibble: 2 × 3\n",
       "\\begin{tabular}{lll}\n",
       " num\\_edited & count & percentage\\\\\n",
       " <fct> & <int> & <dbl>\\\\\n",
       "\\hline\n",
       "\t No  & 160 & 53.87205\\\\\n",
       "\t Yes & 137 & 46.12795\\\\\n",
       "\\end{tabular}\n"
      ],
      "text/markdown": [
       "\n",
       "A tibble: 2 × 3\n",
       "\n",
       "| num_edited &lt;fct&gt; | count &lt;int&gt; | percentage &lt;dbl&gt; |\n",
       "|---|---|---|\n",
       "| No  | 160 | 53.87205 |\n",
       "| Yes | 137 | 46.12795 |\n",
       "\n"
      ],
      "text/plain": [
       "  num_edited count percentage\n",
       "1 No         160   53.87205  \n",
       "2 Yes        137   46.12795  "
      ]
     },
     "metadata": {},
     "output_type": "display_data"
    }
   ],
   "source": [
    "#summary of the data set \n",
    "# makes num the factor by which every predictor is being used to classify\n",
    "\n",
    "#shows the different categories that heart disease can be classified as\n",
    "heart_disease |>\n",
    "    pull(num_edited) |>\n",
    "    levels()\n",
    "\n",
    "#Show the percentage of the whole data that each level of severity makes up\n",
    "num_obs <- nrow(heart_disease)\n",
    "heart_disease |> \n",
    "    group_by(num_edited) |> \n",
    "    summarize(\n",
    "        count = n(),\n",
    "        percentage = n() / num_obs * 100\n",
    "        )"
   ]
  },
  {
   "cell_type": "code",
   "execution_count": 10,
   "id": "def020b3-b1cf-488e-a2b8-90d44b719d45",
   "metadata": {},
   "outputs": [
    {
     "data": {
      "image/png": "[encoded data removed]",
      "text/plain": [
       "plot without title"
      ]
     },
     "metadata": {
      "image/png": {
       "height": 420,
       "width": 420
      }
     },
     "output_type": "display_data"
    }
   ],
   "source": [
    "#visualization of the 2 predictors and where each category\n",
    "# of classified data falls into\n",
    "age_thal <- heart_disease |> \n",
    "    ggplot(aes(x = age, y = thalach, color = num_edited)) +\n",
    "    geom_point(alpha = 0.6) +\n",
    "    labs(x = \"Age\",\n",
    "         y = \"Maximum Heart Rate Achieved(Thal)\",\n",
    "         color = \"Heart Disease Presence\") +\n",
    "    theme(text = element_text(size =12))\n",
    "age_thal"
   ]
  },
  {
   "cell_type": "markdown",
   "id": "6da42be8-150c-490a-b01d-73ec31bb42b7",
   "metadata": {},
   "source": [
    "We currently have a single massive data frame that contains all of the information. We wouldn't have any data to use as a gauge of how accurate the model is if we fed all the data into the classifier. The model will recognise the data because it has \"seen\" it before and will most likely make the right prediction if we use.\n",
    "As a result, we must determine the model's accuracy based on how well it predicts data that it hasn't \"seen\" before in order to allow for a fair process of measurement. In order to accomplish this, we can divide the data into training and testing datasets, with our classification model only using the training dataset. The testing dataset that results from this will be a set of data that the model has never seen before. The testing dataset can then be used to gauge how well our model predicts \"new\" data."
   ]
  },
  {
   "cell_type": "code",
   "execution_count": 6,
   "id": "86a5e21f-acc1-470a-a543-0e63cb5a3a13",
   "metadata": {},
   "outputs": [
    {
     "data": {
      "text/html": [
       "<table class=\"dataframe\">\n",
       "<caption>A tibble: 222 × 15</caption>\n",
       "<thead>\n",
       "\t<tr><th scope=col>age</th><th scope=col>sex</th><th scope=col>cp</th><th scope=col>trestbps</th><th scope=col>chol</th><th scope=col>fbs</th><th scope=col>restecg</th><th scope=col>thalach</th><th scope=col>exang</th><th scope=col>oldpeak</th><th scope=col>slope</th><th scope=col>ca</th><th scope=col>thal</th><th scope=col>num</th><th scope=col>num_edited</th></tr>\n",
       "\t<tr><th scope=col>&lt;dbl&gt;</th><th scope=col>&lt;dbl&gt;</th><th scope=col>&lt;dbl&gt;</th><th scope=col>&lt;dbl&gt;</th><th scope=col>&lt;dbl&gt;</th><th scope=col>&lt;dbl&gt;</th><th scope=col>&lt;dbl&gt;</th><th scope=col>&lt;dbl&gt;</th><th scope=col>&lt;dbl&gt;</th><th scope=col>&lt;dbl&gt;</th><th scope=col>&lt;dbl&gt;</th><th scope=col>&lt;chr&gt;</th><th scope=col>&lt;chr&gt;</th><th scope=col>&lt;dbl&gt;</th><th scope=col>&lt;fct&gt;</th></tr>\n",
       "</thead>\n",
       "<tbody>\n",
       "\t<tr><td>63</td><td>1</td><td>1</td><td>145</td><td>233</td><td>1</td><td>2</td><td>150</td><td>0</td><td>2.3</td><td>3</td><td>0.0</td><td>6.0</td><td>0</td><td>No</td></tr>\n",
       "\t<tr><td>37</td><td>1</td><td>3</td><td>130</td><td>250</td><td>0</td><td>0</td><td>187</td><td>0</td><td>3.5</td><td>3</td><td>0.0</td><td>3.0</td><td>0</td><td>No</td></tr>\n",
       "\t<tr><td>41</td><td>0</td><td>2</td><td>130</td><td>204</td><td>0</td><td>2</td><td>172</td><td>0</td><td>1.4</td><td>1</td><td>0.0</td><td>3.0</td><td>0</td><td>No</td></tr>\n",
       "\t<tr><td>⋮</td><td>⋮</td><td>⋮</td><td>⋮</td><td>⋮</td><td>⋮</td><td>⋮</td><td>⋮</td><td>⋮</td><td>⋮</td><td>⋮</td><td>⋮</td><td>⋮</td><td>⋮</td><td>⋮</td></tr>\n",
       "\t<tr><td>68</td><td>1</td><td>4</td><td>144</td><td>193</td><td>1</td><td>0</td><td>141</td><td>0</td><td>3.4</td><td>2</td><td>2.0</td><td>7.0</td><td>2</td><td>Yes</td></tr>\n",
       "\t<tr><td>57</td><td>1</td><td>4</td><td>130</td><td>131</td><td>0</td><td>0</td><td>115</td><td>1</td><td>1.2</td><td>2</td><td>1.0</td><td>7.0</td><td>3</td><td>Yes</td></tr>\n",
       "\t<tr><td>57</td><td>0</td><td>2</td><td>130</td><td>236</td><td>0</td><td>2</td><td>174</td><td>0</td><td>0.0</td><td>2</td><td>1.0</td><td>3.0</td><td>1</td><td>Yes</td></tr>\n",
       "</tbody>\n",
       "</table>\n"
      ],
      "text/latex": [
       "A tibble: 222 × 15\n",
       "\\begin{tabular}{lllllllllllllll}\n",
       " age & sex & cp & trestbps & chol & fbs & restecg & thalach & exang & oldpeak & slope & ca & thal & num & num\\_edited\\\\\n",
       " <dbl> & <dbl> & <dbl> & <dbl> & <dbl> & <dbl> & <dbl> & <dbl> & <dbl> & <dbl> & <dbl> & <chr> & <chr> & <dbl> & <fct>\\\\\n",
       "\\hline\n",
       "\t 63 & 1 & 1 & 145 & 233 & 1 & 2 & 150 & 0 & 2.3 & 3 & 0.0 & 6.0 & 0 & No\\\\\n",
       "\t 37 & 1 & 3 & 130 & 250 & 0 & 0 & 187 & 0 & 3.5 & 3 & 0.0 & 3.0 & 0 & No\\\\\n",
       "\t 41 & 0 & 2 & 130 & 204 & 0 & 2 & 172 & 0 & 1.4 & 1 & 0.0 & 3.0 & 0 & No\\\\\n",
       "\t ⋮ & ⋮ & ⋮ & ⋮ & ⋮ & ⋮ & ⋮ & ⋮ & ⋮ & ⋮ & ⋮ & ⋮ & ⋮ & ⋮ & ⋮\\\\\n",
       "\t 68 & 1 & 4 & 144 & 193 & 1 & 0 & 141 & 0 & 3.4 & 2 & 2.0 & 7.0 & 2 & Yes\\\\\n",
       "\t 57 & 1 & 4 & 130 & 131 & 0 & 0 & 115 & 1 & 1.2 & 2 & 1.0 & 7.0 & 3 & Yes\\\\\n",
       "\t 57 & 0 & 2 & 130 & 236 & 0 & 2 & 174 & 0 & 0.0 & 2 & 1.0 & 3.0 & 1 & Yes\\\\\n",
       "\\end{tabular}\n"
      ],
      "text/markdown": [
       "\n",
       "A tibble: 222 × 15\n",
       "\n",
       "| age &lt;dbl&gt; | sex &lt;dbl&gt; | cp &lt;dbl&gt; | trestbps &lt;dbl&gt; | chol &lt;dbl&gt; | fbs &lt;dbl&gt; | restecg &lt;dbl&gt; | thalach &lt;dbl&gt; | exang &lt;dbl&gt; | oldpeak &lt;dbl&gt; | slope &lt;dbl&gt; | ca &lt;chr&gt; | thal &lt;chr&gt; | num &lt;dbl&gt; | num_edited &lt;fct&gt; |\n",
       "|---|---|---|---|---|---|---|---|---|---|---|---|---|---|---|\n",
       "| 63 | 1 | 1 | 145 | 233 | 1 | 2 | 150 | 0 | 2.3 | 3 | 0.0 | 6.0 | 0 | No |\n",
       "| 37 | 1 | 3 | 130 | 250 | 0 | 0 | 187 | 0 | 3.5 | 3 | 0.0 | 3.0 | 0 | No |\n",
       "| 41 | 0 | 2 | 130 | 204 | 0 | 2 | 172 | 0 | 1.4 | 1 | 0.0 | 3.0 | 0 | No |\n",
       "| ⋮ | ⋮ | ⋮ | ⋮ | ⋮ | ⋮ | ⋮ | ⋮ | ⋮ | ⋮ | ⋮ | ⋮ | ⋮ | ⋮ | ⋮ |\n",
       "| 68 | 1 | 4 | 144 | 193 | 1 | 0 | 141 | 0 | 3.4 | 2 | 2.0 | 7.0 | 2 | Yes |\n",
       "| 57 | 1 | 4 | 130 | 131 | 0 | 0 | 115 | 1 | 1.2 | 2 | 1.0 | 7.0 | 3 | Yes |\n",
       "| 57 | 0 | 2 | 130 | 236 | 0 | 2 | 174 | 0 | 0.0 | 2 | 1.0 | 3.0 | 1 | Yes |\n",
       "\n"
      ],
      "text/plain": [
       "    age sex cp trestbps chol fbs restecg thalach exang oldpeak slope ca  thal\n",
       "1   63  1   1  145      233  1   2       150     0     2.3     3     0.0 6.0 \n",
       "2   37  1   3  130      250  0   0       187     0     3.5     3     0.0 3.0 \n",
       "3   41  0   2  130      204  0   2       172     0     1.4     1     0.0 3.0 \n",
       "⋮   ⋮   ⋮   ⋮  ⋮        ⋮    ⋮   ⋮       ⋮       ⋮     ⋮       ⋮     ⋮   ⋮   \n",
       "220 68  1   4  144      193  1   0       141     0     3.4     2     2.0 7.0 \n",
       "221 57  1   4  130      131  0   0       115     1     1.2     2     1.0 7.0 \n",
       "222 57  0   2  130      236  0   2       174     0     0.0     2     1.0 3.0 \n",
       "    num num_edited\n",
       "1   0   No        \n",
       "2   0   No        \n",
       "3   0   No        \n",
       "⋮   ⋮   ⋮         \n",
       "220 2   Yes       \n",
       "221 3   Yes       \n",
       "222 1   Yes       "
      ]
     },
     "metadata": {},
     "output_type": "display_data"
    }
   ],
   "source": [
    "#classifyer\n",
    "set.seed(1)\n",
    "\n",
    "heart_disease_split <- initial_split(heart_disease, prop = .75, strata = num_edited)\n",
    "                        \n",
    "heart_disease_training <- training(heart_disease_split)\n",
    "                        \n",
    "heart_disease_testing <- testing(heart_disease_split)\n",
    "\n",
    "heart_disease_training"
   ]
  },
  {
   "cell_type": "code",
   "execution_count": 7,
   "id": "c7775760-2cf0-44ba-b1e5-8295c2007e99",
   "metadata": {},
   "outputs": [
    {
     "data": {
      "text/plain": [
       "Recipe\n",
       "\n",
       "Inputs:\n",
       "\n",
       "      role #variables\n",
       "   outcome          1\n",
       " predictor          2\n",
       "\n",
       "Operations:\n",
       "\n",
       "Scaling for all_predictors()\n",
       "Centering for all_predictors()"
      ]
     },
     "metadata": {},
     "output_type": "display_data"
    }
   ],
   "source": [
    "#creating a recipe \n",
    "heart_recipe<-recipe(num_edited ~ age +\n",
    "                     thalach, data=heart_disease_training)|>\n",
    "#standardizing the data (scaling and centring)\n",
    "step_scale(all_predictors())|>\n",
    "step_center(all_predictors())\n",
    "heart_recipe"
   ]
  },
  {
   "cell_type": "code",
   "execution_count": 36,
   "id": "066473c1-28aa-4cc9-84a5-a475c8f6046d",
   "metadata": {},
   "outputs": [
    {
     "data": {
      "text/html": [
       "<table class=\"dataframe\">\n",
       "<caption>A tibble: 25 × 7</caption>\n",
       "<thead>\n",
       "\t<tr><th scope=col>neighbors</th><th scope=col>.metric</th><th scope=col>.estimator</th><th scope=col>mean</th><th scope=col>n</th><th scope=col>std_err</th><th scope=col>.config</th></tr>\n",
       "\t<tr><th scope=col>&lt;int&gt;</th><th scope=col>&lt;chr&gt;</th><th scope=col>&lt;chr&gt;</th><th scope=col>&lt;dbl&gt;</th><th scope=col>&lt;int&gt;</th><th scope=col>&lt;dbl&gt;</th><th scope=col>&lt;chr&gt;</th></tr>\n",
       "</thead>\n",
       "<tbody>\n",
       "\t<tr><td>1</td><td>accuracy</td><td>binary</td><td>0.6029293</td><td>5</td><td>0.03413723</td><td>Preprocessor1_Model01</td></tr>\n",
       "\t<tr><td>2</td><td>accuracy</td><td>binary</td><td>0.5983838</td><td>5</td><td>0.03483289</td><td>Preprocessor1_Model02</td></tr>\n",
       "\t<tr><td>3</td><td>accuracy</td><td>binary</td><td>0.6080808</td><td>5</td><td>0.01541770</td><td>Preprocessor1_Model03</td></tr>\n",
       "\t<tr><td>⋮</td><td>⋮</td><td>⋮</td><td>⋮</td><td>⋮</td><td>⋮</td><td>⋮</td></tr>\n",
       "\t<tr><td>23</td><td>accuracy</td><td>binary</td><td>0.7159596</td><td>5</td><td>0.02793007</td><td>Preprocessor1_Model23</td></tr>\n",
       "\t<tr><td>24</td><td>accuracy</td><td>binary</td><td>0.7159596</td><td>5</td><td>0.02793007</td><td>Preprocessor1_Model24</td></tr>\n",
       "\t<tr><td>25</td><td>accuracy</td><td>binary</td><td>0.7069697</td><td>5</td><td>0.02820398</td><td>Preprocessor1_Model25</td></tr>\n",
       "</tbody>\n",
       "</table>\n"
      ],
      "text/latex": [
       "A tibble: 25 × 7\n",
       "\\begin{tabular}{lllllll}\n",
       " neighbors & .metric & .estimator & mean & n & std\\_err & .config\\\\\n",
       " <int> & <chr> & <chr> & <dbl> & <int> & <dbl> & <chr>\\\\\n",
       "\\hline\n",
       "\t 1 & accuracy & binary & 0.6029293 & 5 & 0.03413723 & Preprocessor1\\_Model01\\\\\n",
       "\t 2 & accuracy & binary & 0.5983838 & 5 & 0.03483289 & Preprocessor1\\_Model02\\\\\n",
       "\t 3 & accuracy & binary & 0.6080808 & 5 & 0.01541770 & Preprocessor1\\_Model03\\\\\n",
       "\t ⋮ & ⋮ & ⋮ & ⋮ & ⋮ & ⋮ & ⋮\\\\\n",
       "\t 23 & accuracy & binary & 0.7159596 & 5 & 0.02793007 & Preprocessor1\\_Model23\\\\\n",
       "\t 24 & accuracy & binary & 0.7159596 & 5 & 0.02793007 & Preprocessor1\\_Model24\\\\\n",
       "\t 25 & accuracy & binary & 0.7069697 & 5 & 0.02820398 & Preprocessor1\\_Model25\\\\\n",
       "\\end{tabular}\n"
      ],
      "text/markdown": [
       "\n",
       "A tibble: 25 × 7\n",
       "\n",
       "| neighbors &lt;int&gt; | .metric &lt;chr&gt; | .estimator &lt;chr&gt; | mean &lt;dbl&gt; | n &lt;int&gt; | std_err &lt;dbl&gt; | .config &lt;chr&gt; |\n",
       "|---|---|---|---|---|---|---|\n",
       "| 1 | accuracy | binary | 0.6029293 | 5 | 0.03413723 | Preprocessor1_Model01 |\n",
       "| 2 | accuracy | binary | 0.5983838 | 5 | 0.03483289 | Preprocessor1_Model02 |\n",
       "| 3 | accuracy | binary | 0.6080808 | 5 | 0.01541770 | Preprocessor1_Model03 |\n",
       "| ⋮ | ⋮ | ⋮ | ⋮ | ⋮ | ⋮ | ⋮ |\n",
       "| 23 | accuracy | binary | 0.7159596 | 5 | 0.02793007 | Preprocessor1_Model23 |\n",
       "| 24 | accuracy | binary | 0.7159596 | 5 | 0.02793007 | Preprocessor1_Model24 |\n",
       "| 25 | accuracy | binary | 0.7069697 | 5 | 0.02820398 | Preprocessor1_Model25 |\n",
       "\n"
      ],
      "text/plain": [
       "   neighbors .metric  .estimator mean      n std_err    .config              \n",
       "1  1         accuracy binary     0.6029293 5 0.03413723 Preprocessor1_Model01\n",
       "2  2         accuracy binary     0.5983838 5 0.03483289 Preprocessor1_Model02\n",
       "3  3         accuracy binary     0.6080808 5 0.01541770 Preprocessor1_Model03\n",
       "⋮  ⋮         ⋮        ⋮          ⋮         ⋮ ⋮          ⋮                    \n",
       "23 23        accuracy binary     0.7159596 5 0.02793007 Preprocessor1_Model23\n",
       "24 24        accuracy binary     0.7159596 5 0.02793007 Preprocessor1_Model24\n",
       "25 25        accuracy binary     0.7069697 5 0.02820398 Preprocessor1_Model25"
      ]
     },
     "metadata": {},
     "output_type": "display_data"
    },
    {
     "data": {
      "image/png": "[encoded data removed]",
      "text/plain": [
       "plot without title"
      ]
     },
     "metadata": {
      "image/png": {
       "height": 420,
       "width": 420
      }
     },
     "output_type": "display_data"
    }
   ],
   "source": [
    "#??\n",
    "set.seed(1)\n",
    "knn_spec <- nearest_neighbor(weight_func = \"rectangular\", neighbors = tune()) |>\n",
    "    set_engine(\"kknn\") |>\n",
    "    set_mode(\"classification\")\n",
    "\n",
    "#??\n",
    "heart_vfold <- vfold_cv(heart_disease_training, v = 5, strata = num_edited)\n",
    "\n",
    "#creates tibble for k values\n",
    "possible_k <- tibble(neighbors = seq(from = 1, to = 25))\n",
    "\n",
    "#?\n",
    "knn_results <- workflow() |>\n",
    "  add_recipe(heart_recipe) |>\n",
    "  add_model(knn_spec) |>\n",
    "  tune_grid(resamples = heart_vfold, grid = possible_k) |>\n",
    "  collect_metrics() \n",
    "#?\n",
    "accuracies <- knn_results |>\n",
    "  filter(.metric == \"accuracy\")\n",
    "accuracies\n",
    "\n",
    "#graph results to find the k value that gives the best accuracy\n",
    "accuracy_versus_k<-ggplot(accuracies, aes (x=neighbors, y=mean))+\n",
    "geom_point()+\n",
    "geom_line()+\n",
    "labs(x= \"Neighbors\", y= \"Accuracy Estimate\")+\n",
    "scale_x_continuous(breaks=seq(0,25, by=1))+\n",
    "scale_y_continuous(limits=c(0.4, 1.0))\n",
    "accuracy_versus_k"
   ]
  },
  {
   "cell_type": "code",
   "execution_count": 33,
   "id": "f623cbd3-b0cb-4527-a5b9-0bbb23ecccaa",
   "metadata": {},
   "outputs": [
    {
     "data": {
      "text/plain": [
       "K-Nearest Neighbor Model Specification (classification)\n",
       "\n",
       "Main Arguments:\n",
       "  neighbors = 8\n",
       "  weight_func = rectangular\n",
       "\n",
       "Computational engine: kknn \n"
      ]
     },
     "metadata": {},
     "output_type": "display_data"
    },
    {
     "data": {
      "text/plain": [
       "══ Workflow [trained] ══════════════════════════════════════════════════════════\n",
       "\u001b[3mPreprocessor:\u001b[23m Recipe\n",
       "\u001b[3mModel:\u001b[23m nearest_neighbor()\n",
       "\n",
       "── Preprocessor ────────────────────────────────────────────────────────────────\n",
       "2 Recipe Steps\n",
       "\n",
       "• step_scale()\n",
       "• step_center()\n",
       "\n",
       "── Model ───────────────────────────────────────────────────────────────────────\n",
       "\n",
       "Call:\n",
       "kknn::train.kknn(formula = ..y ~ ., data = data, ks = min_rows(8,     data, 5), kernel = ~\"rectangular\")\n",
       "\n",
       "Type of response variable: nominal\n",
       "Minimal misclassification: 0.2972973\n",
       "Best kernel: rectangular\n",
       "Best k: 8"
      ]
     },
     "metadata": {},
     "output_type": "display_data"
    },
    {
     "data": {
      "text/html": [
       "<table class=\"dataframe\">\n",
       "<caption>A tibble: 75 × 16</caption>\n",
       "<thead>\n",
       "\t<tr><th scope=col>.pred_class</th><th scope=col>age</th><th scope=col>sex</th><th scope=col>cp</th><th scope=col>trestbps</th><th scope=col>chol</th><th scope=col>fbs</th><th scope=col>restecg</th><th scope=col>thalach</th><th scope=col>exang</th><th scope=col>oldpeak</th><th scope=col>slope</th><th scope=col>ca</th><th scope=col>thal</th><th scope=col>num</th><th scope=col>num_edited</th></tr>\n",
       "\t<tr><th scope=col>&lt;fct&gt;</th><th scope=col>&lt;dbl&gt;</th><th scope=col>&lt;dbl&gt;</th><th scope=col>&lt;dbl&gt;</th><th scope=col>&lt;dbl&gt;</th><th scope=col>&lt;dbl&gt;</th><th scope=col>&lt;dbl&gt;</th><th scope=col>&lt;dbl&gt;</th><th scope=col>&lt;dbl&gt;</th><th scope=col>&lt;dbl&gt;</th><th scope=col>&lt;dbl&gt;</th><th scope=col>&lt;dbl&gt;</th><th scope=col>&lt;chr&gt;</th><th scope=col>&lt;chr&gt;</th><th scope=col>&lt;dbl&gt;</th><th scope=col>&lt;fct&gt;</th></tr>\n",
       "</thead>\n",
       "<tbody>\n",
       "\t<tr><td>No </td><td>56</td><td>1</td><td>2</td><td>120</td><td>236</td><td>0</td><td>0</td><td>178</td><td>0</td><td>0.8</td><td>1</td><td>0.0</td><td>3.0</td><td>0</td><td>No </td></tr>\n",
       "\t<tr><td>Yes</td><td>62</td><td>0</td><td>4</td><td>140</td><td>268</td><td>0</td><td>2</td><td>160</td><td>0</td><td>3.6</td><td>3</td><td>2.0</td><td>3.0</td><td>3</td><td>Yes</td></tr>\n",
       "\t<tr><td>No </td><td>57</td><td>0</td><td>4</td><td>120</td><td>354</td><td>0</td><td>0</td><td>163</td><td>1</td><td>0.6</td><td>1</td><td>0.0</td><td>3.0</td><td>0</td><td>No </td></tr>\n",
       "\t<tr><td>⋮</td><td>⋮</td><td>⋮</td><td>⋮</td><td>⋮</td><td>⋮</td><td>⋮</td><td>⋮</td><td>⋮</td><td>⋮</td><td>⋮</td><td>⋮</td><td>⋮</td><td>⋮</td><td>⋮</td><td>⋮</td></tr>\n",
       "\t<tr><td>Yes</td><td>58</td><td>1</td><td>4</td><td>114</td><td>318</td><td>0</td><td>1</td><td>140</td><td>0</td><td>4.4</td><td>3</td><td>3.0</td><td>6.0</td><td>4</td><td>Yes</td></tr>\n",
       "\t<tr><td>No </td><td>44</td><td>1</td><td>4</td><td>120</td><td>169</td><td>0</td><td>0</td><td>144</td><td>1</td><td>2.8</td><td>3</td><td>0.0</td><td>6.0</td><td>2</td><td>Yes</td></tr>\n",
       "\t<tr><td>Yes</td><td>57</td><td>0</td><td>4</td><td>140</td><td>241</td><td>0</td><td>0</td><td>123</td><td>1</td><td>0.2</td><td>2</td><td>0.0</td><td>7.0</td><td>1</td><td>Yes</td></tr>\n",
       "</tbody>\n",
       "</table>\n"
      ],
      "text/latex": [
       "A tibble: 75 × 16\n",
       "\\begin{tabular}{llllllllllllllll}\n",
       " .pred\\_class & age & sex & cp & trestbps & chol & fbs & restecg & thalach & exang & oldpeak & slope & ca & thal & num & num\\_edited\\\\\n",
       " <fct> & <dbl> & <dbl> & <dbl> & <dbl> & <dbl> & <dbl> & <dbl> & <dbl> & <dbl> & <dbl> & <dbl> & <chr> & <chr> & <dbl> & <fct>\\\\\n",
       "\\hline\n",
       "\t No  & 56 & 1 & 2 & 120 & 236 & 0 & 0 & 178 & 0 & 0.8 & 1 & 0.0 & 3.0 & 0 & No \\\\\n",
       "\t Yes & 62 & 0 & 4 & 140 & 268 & 0 & 2 & 160 & 0 & 3.6 & 3 & 2.0 & 3.0 & 3 & Yes\\\\\n",
       "\t No  & 57 & 0 & 4 & 120 & 354 & 0 & 0 & 163 & 1 & 0.6 & 1 & 0.0 & 3.0 & 0 & No \\\\\n",
       "\t ⋮ & ⋮ & ⋮ & ⋮ & ⋮ & ⋮ & ⋮ & ⋮ & ⋮ & ⋮ & ⋮ & ⋮ & ⋮ & ⋮ & ⋮ & ⋮\\\\\n",
       "\t Yes & 58 & 1 & 4 & 114 & 318 & 0 & 1 & 140 & 0 & 4.4 & 3 & 3.0 & 6.0 & 4 & Yes\\\\\n",
       "\t No  & 44 & 1 & 4 & 120 & 169 & 0 & 0 & 144 & 1 & 2.8 & 3 & 0.0 & 6.0 & 2 & Yes\\\\\n",
       "\t Yes & 57 & 0 & 4 & 140 & 241 & 0 & 0 & 123 & 1 & 0.2 & 2 & 0.0 & 7.0 & 1 & Yes\\\\\n",
       "\\end{tabular}\n"
      ],
      "text/markdown": [
       "\n",
       "A tibble: 75 × 16\n",
       "\n",
       "| .pred_class &lt;fct&gt; | age &lt;dbl&gt; | sex &lt;dbl&gt; | cp &lt;dbl&gt; | trestbps &lt;dbl&gt; | chol &lt;dbl&gt; | fbs &lt;dbl&gt; | restecg &lt;dbl&gt; | thalach &lt;dbl&gt; | exang &lt;dbl&gt; | oldpeak &lt;dbl&gt; | slope &lt;dbl&gt; | ca &lt;chr&gt; | thal &lt;chr&gt; | num &lt;dbl&gt; | num_edited &lt;fct&gt; |\n",
       "|---|---|---|---|---|---|---|---|---|---|---|---|---|---|---|---|\n",
       "| No  | 56 | 1 | 2 | 120 | 236 | 0 | 0 | 178 | 0 | 0.8 | 1 | 0.0 | 3.0 | 0 | No  |\n",
       "| Yes | 62 | 0 | 4 | 140 | 268 | 0 | 2 | 160 | 0 | 3.6 | 3 | 2.0 | 3.0 | 3 | Yes |\n",
       "| No  | 57 | 0 | 4 | 120 | 354 | 0 | 0 | 163 | 1 | 0.6 | 1 | 0.0 | 3.0 | 0 | No  |\n",
       "| ⋮ | ⋮ | ⋮ | ⋮ | ⋮ | ⋮ | ⋮ | ⋮ | ⋮ | ⋮ | ⋮ | ⋮ | ⋮ | ⋮ | ⋮ | ⋮ |\n",
       "| Yes | 58 | 1 | 4 | 114 | 318 | 0 | 1 | 140 | 0 | 4.4 | 3 | 3.0 | 6.0 | 4 | Yes |\n",
       "| No  | 44 | 1 | 4 | 120 | 169 | 0 | 0 | 144 | 1 | 2.8 | 3 | 0.0 | 6.0 | 2 | Yes |\n",
       "| Yes | 57 | 0 | 4 | 140 | 241 | 0 | 0 | 123 | 1 | 0.2 | 2 | 0.0 | 7.0 | 1 | Yes |\n",
       "\n"
      ],
      "text/plain": [
       "   .pred_class age sex cp trestbps chol fbs restecg thalach exang oldpeak slope\n",
       "1  No          56  1   2  120      236  0   0       178     0     0.8     1    \n",
       "2  Yes         62  0   4  140      268  0   2       160     0     3.6     3    \n",
       "3  No          57  0   4  120      354  0   0       163     1     0.6     1    \n",
       "⋮  ⋮           ⋮   ⋮   ⋮  ⋮        ⋮    ⋮   ⋮       ⋮       ⋮     ⋮       ⋮    \n",
       "73 Yes         58  1   4  114      318  0   1       140     0     4.4     3    \n",
       "74 No          44  1   4  120      169  0   0       144     1     2.8     3    \n",
       "75 Yes         57  0   4  140      241  0   0       123     1     0.2     2    \n",
       "   ca  thal num num_edited\n",
       "1  0.0 3.0  0   No        \n",
       "2  2.0 3.0  3   Yes       \n",
       "3  0.0 3.0  0   No        \n",
       "⋮  ⋮   ⋮    ⋮   ⋮         \n",
       "73 3.0 6.0  4   Yes       \n",
       "74 0.0 6.0  2   Yes       \n",
       "75 0.0 7.0  1   Yes       "
      ]
     },
     "metadata": {},
     "output_type": "display_data"
    },
    {
     "data": {
      "text/html": [
       "<table class=\"dataframe\">\n",
       "<caption>A tibble: 2 × 3</caption>\n",
       "<thead>\n",
       "\t<tr><th scope=col>.metric</th><th scope=col>.estimator</th><th scope=col>.estimate</th></tr>\n",
       "\t<tr><th scope=col>&lt;chr&gt;</th><th scope=col>&lt;chr&gt;</th><th scope=col>&lt;dbl&gt;</th></tr>\n",
       "</thead>\n",
       "<tbody>\n",
       "\t<tr><td>accuracy</td><td>binary</td><td>0.7200000</td></tr>\n",
       "\t<tr><td>kap     </td><td>binary</td><td>0.4344704</td></tr>\n",
       "</tbody>\n",
       "</table>\n"
      ],
      "text/latex": [
       "A tibble: 2 × 3\n",
       "\\begin{tabular}{lll}\n",
       " .metric & .estimator & .estimate\\\\\n",
       " <chr> & <chr> & <dbl>\\\\\n",
       "\\hline\n",
       "\t accuracy & binary & 0.7200000\\\\\n",
       "\t kap      & binary & 0.4344704\\\\\n",
       "\\end{tabular}\n"
      ],
      "text/markdown": [
       "\n",
       "A tibble: 2 × 3\n",
       "\n",
       "| .metric &lt;chr&gt; | .estimator &lt;chr&gt; | .estimate &lt;dbl&gt; |\n",
       "|---|---|---|\n",
       "| accuracy | binary | 0.7200000 |\n",
       "| kap      | binary | 0.4344704 |\n",
       "\n"
      ],
      "text/plain": [
       "  .metric  .estimator .estimate\n",
       "1 accuracy binary     0.7200000\n",
       "2 kap      binary     0.4344704"
      ]
     },
     "metadata": {},
     "output_type": "display_data"
    },
    {
     "data": {
      "text/plain": [
       "          Truth\n",
       "Prediction No Yes\n",
       "       No  31  12\n",
       "       Yes  9  23"
      ]
     },
     "metadata": {},
     "output_type": "display_data"
    }
   ],
   "source": [
    "#we can infer that k= 16 gives us the greatest accuracy \n",
    "knn_spec2<-nearest_neighbor(weight_func=\"rectangular\", neighbors= 8)|>\n",
    "set_engine(\"kknn\")|>\n",
    "set_mode(\"classification\")\n",
    "knn_spec2\n",
    "\n",
    "heart_fit<-workflow()|>\n",
    "add_recipe(heart_recipe)|>\n",
    "add_model(knn_spec2)|>\n",
    "fit(data=heart_disease_training)\n",
    "heart_fit\n",
    "\n",
    "heart_predictions<-predict(heart_fit, heart_disease_testing)|>\n",
    "bind_cols(heart_disease_testing)\n",
    "heart_predictions\n",
    "\n",
    "heart_prediction_accuracy <- heart_predictions |>\n",
    "                        metrics(truth = num_edited, estimate = .pred_class)\n",
    "heart_prediction_accuracy\n",
    "\n",
    "heart_mat <- heart_predictions |>\n",
    "            conf_mat(truth = num_edited, estimate = .pred_class)\n",
    "heart_mat"
   ]
  },
  {
   "cell_type": "markdown",
   "id": "728312f4-a432-48d3-9b8c-29277181647e",
   "metadata": {},
   "source": [
    "Disscussion\n",
    "-\n",
    "\n",
    "Summarize what you found\n",
    "- Discuss whether this is what you expected to find?\n",
    "\n",
    "Through the use of classification via k nearest neighbours, we have created a model to predict the presence of heart disease with 72% accuracy. Given the dataset, majority of the  predictors that proved to have a strong correlation to the presene of heart disease were categorical values, therefore were unusable in our model. We were forced to use the limited number of predictors with a numeric value, consequently we did not expect a strong accuracy and our model follows that assumption. \n",
    "- What impact could such findings have? \n",
    "\n",
    "If implemented into the real world, our current model would not prove to be super beneficial to the healcare community. Although majority of the predictions are correct, there is still the significant risk of misdiagnosis. Even one case of misdiagnosis (false negative) could cost someones life, therefore it is imperative that the model is adjusted even more to predict with finer accuracy and precision. Once the accuracy issue is adressed our model could save patient wait times and provide quicker diagnosis, potentially aiding in the health crisis regarding access issues. \n",
    "\n",
    "- Discuss what future questions could this lead to?\n",
    "\n",
    "Our model depicted the relationship between semi-useful predictors and heart disease, this only opens the possibility for more models and predictors to emerge. If age and maximum heart rate achieved (Thalach) did a good job at predicting heart disease, what predictors can do a great job ? Once those are determined, questions regarding the manipulation of those variables may emerge alongside preventative measures. (ex - high cholesterol levels prove to have a strong correlation with heart disease, so we can ask questions about how to lower cholesterol levels in a health way). "
   ]
  },
  {
   "cell_type": "markdown",
   "id": "48ece272-0c3d-478e-b818-fb98e104d380",
   "metadata": {},
   "source": [
    "Refrences \n",
    "-\n",
    "- At least 2 citations of literature relevant to the project (format is your choice, just be consistent across the references). (MLA Formatting)\n",
    "    - “Cardiovascular Diseases (Cvds).” World Health Organization, World Health Organization, https://www.who.int/news-room/fact-sheets/detail/cardiovascular-diseases-(cvds). Acessed 23. Nov. 2022\n",
    "    - Virani, Salim S., et al. “Heart Disease and Stroke Statistics-2021 Update.” Circulation, 27 Jan. 2021, https://www.ahajournals.org/doi/10.1161/CIR.0000000000000950. Acessed 19. Nov. 2022\n",
    "- Make sure to cite the source of your data as well.\n",
    "    - UCI Machine Learning Repository: Heart Disease Data Set, https://archive.ics.uci.edu/ml/datasets/Heart%20Disease. Acessed 20. Oct. 2022"
   ]
  },
  {
   "cell_type": "code",
   "execution_count": null,
   "id": "83438475-6765-42f6-acc6-d732ad279a86",
   "metadata": {},
   "outputs": [],
   "source": []
  }
 ],
 "metadata": {
  "kernelspec": {
   "display_name": "R",
   "language": "R",
   "name": "ir"
  },
  "language_info": {
   "codemirror_mode": "r",
   "file_extension": ".r",
   "mimetype": "text/x-r-source",
   "name": "R",
   "pygments_lexer": "r",
   "version": "4.1.3"
  }
 },
 "nbformat": 4,
 "nbformat_minor": 5
}
