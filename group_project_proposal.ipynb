{
 "cells": [
  {
   "cell_type": "markdown",
   "id": "f33a7d45-dbce-42a8-9032-e68bf5f32c20",
   "metadata": {},
   "source": [
    "Group Project Proposal"
   ]
  },
  {
   "cell_type": "code",
   "execution_count": null,
   "id": "2483000e-a1b4-465b-b92f-2dc542724dc6",
   "metadata": {},
   "outputs": [],
   "source": []
  }
 ],
 "metadata": {
  "kernelspec": {
   "display_name": "R",
   "language": "R",
   "name": "ir"
  },
  "language_info": {
   "codemirror_mode": "r",
   "file_extension": ".r",
   "mimetype": "text/x-r-source",
   "name": "R",
   "pygments_lexer": "r",
   "version": "4.1.3"
  }
 },
 "nbformat": 4,
 "nbformat_minor": 5
}
