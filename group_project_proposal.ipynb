{
 "cells": [
  {
   "cell_type": "markdown",
   "id": "f33a7d45-dbce-42a8-9032-e68bf5f32c20",
   "metadata": {},
   "source": [
    "Group Project Proposal : Heart Disease\n",
    "-"
   ]
  },
  {
   "cell_type": "markdown",
   "id": "95af5e30-a261-4210-8ab9-c79308de4c7e",
   "metadata": {},
   "source": [
    "Introduction:\n",
    "- As of 2020, heart disease was one of the most leading factors contributing to death worldwide. The most common cause of heart disease is a buildup of fatty plaques in the arteries. Risk factors for heart disease include a poor diet, lack of exercise, obesity, and smoking. Symptoms of heart disease include rapid heart rate, chest pain, and shortness of breath. \n",
    "- What variables can be used to accurately predict whether or not someone likely has heart disease, or is at risk for heart disease?\n",
    "- The data set that will be used is \"https://archive.ics.uci.edu/ml/machine-learning-databases/heart-disease/reprocessed.hungarian.data\" and it contains 14 attributes which state the variables age, sex, chest pain type, resting blood pressure, serum cholesterol in mg/dl,  fasting blood sugar, resting electrocardiographic results, maximum heart rate achieved, exercise-induced angina,  ST depression induced by exercise relative to rest, the slope of the peak exercise ST segment, number of major vessels, whether they have a defect or are normal, and lastly the diagnosis of heart disease. "
   ]
  },
  {
   "cell_type": "markdown",
   "id": "7dcc686e-7f33-47a8-93e6-0a05908fd207",
   "metadata": {},
   "source": [
    "Read the data into R, clean, and wrangle the data"
   ]
  },
  {
   "cell_type": "code",
   "execution_count": 2,
   "id": "9258a88b-3bda-4c7f-9175-556684eae05f",
   "metadata": {},
   "outputs": [],
   "source": [
    "#code will go here\n",
    "library(tidyverse)\n",
    "library(repr)\n",
    "library(tidymodels)\n",
    "options(repr.matrix.max.rows = 6)"
   ]
  },
  {
   "cell_type": "code",
   "execution_count": 10,
   "id": "36127e42-8229-4b16-b595-d06a1b017d12",
   "metadata": {},
   "outputs": [
    {
     "name": "stderr",
     "output_type": "stream",
     "text": [
      "\u001b[1mRows: \u001b[22m\u001b[34m294\u001b[39m \u001b[1mColumns: \u001b[22m\u001b[34m14\u001b[39m\n",
      "\u001b[36m──\u001b[39m \u001b[1mColumn specification\u001b[22m \u001b[36m────────────────────────────────────────────────────────\u001b[39m\n",
      "\u001b[1mDelimiter:\u001b[22m \" \"\n",
      "\u001b[32mdbl\u001b[39m (14): X1, X2, X3, X4, X5, X6, X7, X8, X9, X10, X11, X12, X13, X14\n",
      "\n",
      "\u001b[36mℹ\u001b[39m Use `spec()` to retrieve the full column specification for this data.\n",
      "\u001b[36mℹ\u001b[39m Specify the column types or set `show_col_types = FALSE` to quiet this message.\n"
     ]
    },
    {
     "data": {
      "text/html": [
       "<table class=\"dataframe\">\n",
       "<caption>A tibble: 294 × 14</caption>\n",
       "<thead>\n",
       "\t<tr><th scope=col>age</th><th scope=col>sex</th><th scope=col>cp</th><th scope=col>trestbps</th><th scope=col>chol</th><th scope=col>fbs</th><th scope=col>restecg</th><th scope=col>thalach</th><th scope=col>exang</th><th scope=col>oldpeak</th><th scope=col>slope</th><th scope=col>ca</th><th scope=col>thal</th><th scope=col>num</th></tr>\n",
       "\t<tr><th scope=col>&lt;dbl&gt;</th><th scope=col>&lt;dbl&gt;</th><th scope=col>&lt;dbl&gt;</th><th scope=col>&lt;dbl&gt;</th><th scope=col>&lt;dbl&gt;</th><th scope=col>&lt;dbl&gt;</th><th scope=col>&lt;dbl&gt;</th><th scope=col>&lt;dbl&gt;</th><th scope=col>&lt;dbl&gt;</th><th scope=col>&lt;dbl&gt;</th><th scope=col>&lt;dbl&gt;</th><th scope=col>&lt;dbl&gt;</th><th scope=col>&lt;dbl&gt;</th><th scope=col>&lt;fct&gt;</th></tr>\n",
       "</thead>\n",
       "<tbody>\n",
       "\t<tr><td>40</td><td>1</td><td>2</td><td>140</td><td>289</td><td>0</td><td>0</td><td>172</td><td>0</td><td>0</td><td>-9</td><td>-9</td><td>-9</td><td>0</td></tr>\n",
       "\t<tr><td>49</td><td>0</td><td>3</td><td>160</td><td>180</td><td>0</td><td>0</td><td>156</td><td>0</td><td>1</td><td> 2</td><td>-9</td><td>-9</td><td>1</td></tr>\n",
       "\t<tr><td>37</td><td>1</td><td>2</td><td>130</td><td>283</td><td>0</td><td>1</td><td> 98</td><td>0</td><td>0</td><td>-9</td><td>-9</td><td>-9</td><td>0</td></tr>\n",
       "\t<tr><td>⋮</td><td>⋮</td><td>⋮</td><td>⋮</td><td>⋮</td><td>⋮</td><td>⋮</td><td>⋮</td><td>⋮</td><td>⋮</td><td>⋮</td><td>⋮</td><td>⋮</td><td>⋮</td></tr>\n",
       "\t<tr><td>48</td><td>1</td><td>3</td><td>110</td><td>211</td><td>0</td><td>0</td><td>138</td><td>0</td><td>0</td><td>-9</td><td>-9</td><td> 6</td><td>0</td></tr>\n",
       "\t<tr><td>47</td><td>0</td><td>2</td><td>140</td><td>257</td><td>0</td><td>0</td><td>135</td><td>0</td><td>1</td><td> 1</td><td>-9</td><td>-9</td><td>0</td></tr>\n",
       "\t<tr><td>53</td><td>1</td><td>4</td><td>130</td><td>182</td><td>0</td><td>0</td><td>148</td><td>0</td><td>0</td><td>-9</td><td>-9</td><td>-9</td><td>0</td></tr>\n",
       "</tbody>\n",
       "</table>\n"
      ],
      "text/latex": [
       "A tibble: 294 × 14\n",
       "\\begin{tabular}{llllllllllllll}\n",
       " age & sex & cp & trestbps & chol & fbs & restecg & thalach & exang & oldpeak & slope & ca & thal & num\\\\\n",
       " <dbl> & <dbl> & <dbl> & <dbl> & <dbl> & <dbl> & <dbl> & <dbl> & <dbl> & <dbl> & <dbl> & <dbl> & <dbl> & <fct>\\\\\n",
       "\\hline\n",
       "\t 40 & 1 & 2 & 140 & 289 & 0 & 0 & 172 & 0 & 0 & -9 & -9 & -9 & 0\\\\\n",
       "\t 49 & 0 & 3 & 160 & 180 & 0 & 0 & 156 & 0 & 1 &  2 & -9 & -9 & 1\\\\\n",
       "\t 37 & 1 & 2 & 130 & 283 & 0 & 1 &  98 & 0 & 0 & -9 & -9 & -9 & 0\\\\\n",
       "\t ⋮ & ⋮ & ⋮ & ⋮ & ⋮ & ⋮ & ⋮ & ⋮ & ⋮ & ⋮ & ⋮ & ⋮ & ⋮ & ⋮\\\\\n",
       "\t 48 & 1 & 3 & 110 & 211 & 0 & 0 & 138 & 0 & 0 & -9 & -9 &  6 & 0\\\\\n",
       "\t 47 & 0 & 2 & 140 & 257 & 0 & 0 & 135 & 0 & 1 &  1 & -9 & -9 & 0\\\\\n",
       "\t 53 & 1 & 4 & 130 & 182 & 0 & 0 & 148 & 0 & 0 & -9 & -9 & -9 & 0\\\\\n",
       "\\end{tabular}\n"
      ],
      "text/markdown": [
       "\n",
       "A tibble: 294 × 14\n",
       "\n",
       "| age &lt;dbl&gt; | sex &lt;dbl&gt; | cp &lt;dbl&gt; | trestbps &lt;dbl&gt; | chol &lt;dbl&gt; | fbs &lt;dbl&gt; | restecg &lt;dbl&gt; | thalach &lt;dbl&gt; | exang &lt;dbl&gt; | oldpeak &lt;dbl&gt; | slope &lt;dbl&gt; | ca &lt;dbl&gt; | thal &lt;dbl&gt; | num &lt;fct&gt; |\n",
       "|---|---|---|---|---|---|---|---|---|---|---|---|---|---|\n",
       "| 40 | 1 | 2 | 140 | 289 | 0 | 0 | 172 | 0 | 0 | -9 | -9 | -9 | 0 |\n",
       "| 49 | 0 | 3 | 160 | 180 | 0 | 0 | 156 | 0 | 1 |  2 | -9 | -9 | 1 |\n",
       "| 37 | 1 | 2 | 130 | 283 | 0 | 1 |  98 | 0 | 0 | -9 | -9 | -9 | 0 |\n",
       "| ⋮ | ⋮ | ⋮ | ⋮ | ⋮ | ⋮ | ⋮ | ⋮ | ⋮ | ⋮ | ⋮ | ⋮ | ⋮ | ⋮ |\n",
       "| 48 | 1 | 3 | 110 | 211 | 0 | 0 | 138 | 0 | 0 | -9 | -9 |  6 | 0 |\n",
       "| 47 | 0 | 2 | 140 | 257 | 0 | 0 | 135 | 0 | 1 |  1 | -9 | -9 | 0 |\n",
       "| 53 | 1 | 4 | 130 | 182 | 0 | 0 | 148 | 0 | 0 | -9 | -9 | -9 | 0 |\n",
       "\n"
      ],
      "text/plain": [
       "    age sex cp trestbps chol fbs restecg thalach exang oldpeak slope ca thal\n",
       "1   40  1   2  140      289  0   0       172     0     0       -9    -9 -9  \n",
       "2   49  0   3  160      180  0   0       156     0     1        2    -9 -9  \n",
       "3   37  1   2  130      283  0   1        98     0     0       -9    -9 -9  \n",
       "⋮   ⋮   ⋮   ⋮  ⋮        ⋮    ⋮   ⋮       ⋮       ⋮     ⋮       ⋮     ⋮  ⋮   \n",
       "292 48  1   3  110      211  0   0       138     0     0       -9    -9  6  \n",
       "293 47  0   2  140      257  0   0       135     0     1        1    -9 -9  \n",
       "294 53  1   4  130      182  0   0       148     0     0       -9    -9 -9  \n",
       "    num\n",
       "1   0  \n",
       "2   1  \n",
       "3   0  \n",
       "⋮   ⋮  \n",
       "292 0  \n",
       "293 0  \n",
       "294 0  "
      ]
     },
     "metadata": {},
     "output_type": "display_data"
    }
   ],
   "source": [
    "#read data into r\n",
    "heart_disease_data <- read_delim(\"https://archive.ics.uci.edu/ml/machine-learning-databases/heart-disease/reprocessed.hungarian.data\", col_names = FALSE) |>\n",
    "                    rename(age =X1,\n",
    "                              sex = X2,\n",
    "                              cp = X3,\n",
    "                              trestbps = X4,\n",
    "                              chol = X5,\n",
    "                              fbs = X6,\n",
    "                              restecg = X7,\n",
    "                              thalach = X8, \n",
    "                              exang = X9,\n",
    "                              oldpeak = X10, \n",
    "                              slope = X11, \n",
    "                              ca = X12, \n",
    "                              thal = X13, \n",
    "                              num = X14) |>\n",
    "                    mutate(num = as_factor(num))\n",
    "heart_disease_data"
   ]
  },
  {
   "cell_type": "code",
   "execution_count": 11,
   "id": "c57be474-147a-4908-9f2d-40c51c7a6743",
   "metadata": {},
   "outputs": [
    {
     "data": {
      "text/html": [
       "<table class=\"dataframe\">\n",
       "<caption>A tibble: 220 × 14</caption>\n",
       "<thead>\n",
       "\t<tr><th scope=col>age</th><th scope=col>sex</th><th scope=col>cp</th><th scope=col>trestbps</th><th scope=col>chol</th><th scope=col>fbs</th><th scope=col>restecg</th><th scope=col>thalach</th><th scope=col>exang</th><th scope=col>oldpeak</th><th scope=col>slope</th><th scope=col>ca</th><th scope=col>thal</th><th scope=col>num</th></tr>\n",
       "\t<tr><th scope=col>&lt;dbl&gt;</th><th scope=col>&lt;dbl&gt;</th><th scope=col>&lt;dbl&gt;</th><th scope=col>&lt;dbl&gt;</th><th scope=col>&lt;dbl&gt;</th><th scope=col>&lt;dbl&gt;</th><th scope=col>&lt;dbl&gt;</th><th scope=col>&lt;dbl&gt;</th><th scope=col>&lt;dbl&gt;</th><th scope=col>&lt;dbl&gt;</th><th scope=col>&lt;dbl&gt;</th><th scope=col>&lt;dbl&gt;</th><th scope=col>&lt;dbl&gt;</th><th scope=col>&lt;fct&gt;</th></tr>\n",
       "</thead>\n",
       "<tbody>\n",
       "\t<tr><td>40</td><td>1</td><td>2</td><td>140</td><td>289</td><td>0</td><td>0</td><td>172</td><td>0</td><td>0</td><td>-9</td><td>-9</td><td>-9</td><td>0</td></tr>\n",
       "\t<tr><td>37</td><td>1</td><td>2</td><td>130</td><td>283</td><td>0</td><td>1</td><td> 98</td><td>0</td><td>0</td><td>-9</td><td>-9</td><td>-9</td><td>0</td></tr>\n",
       "\t<tr><td>54</td><td>1</td><td>3</td><td>150</td><td> -9</td><td>0</td><td>0</td><td>122</td><td>0</td><td>0</td><td>-9</td><td>-9</td><td>-9</td><td>0</td></tr>\n",
       "\t<tr><td>⋮</td><td>⋮</td><td>⋮</td><td>⋮</td><td>⋮</td><td>⋮</td><td>⋮</td><td>⋮</td><td>⋮</td><td>⋮</td><td>⋮</td><td>⋮</td><td>⋮</td><td>⋮</td></tr>\n",
       "\t<tr><td>54</td><td>1</td><td>4</td><td>130</td><td>242</td><td>0</td><td>0</td><td> 91</td><td>1</td><td>1</td><td>2</td><td>-9</td><td>-9</td><td>2</td></tr>\n",
       "\t<tr><td>55</td><td>1</td><td>4</td><td>140</td><td>201</td><td>0</td><td>0</td><td>130</td><td>1</td><td>3</td><td>2</td><td>-9</td><td>-9</td><td>1</td></tr>\n",
       "\t<tr><td>51</td><td>1</td><td>3</td><td>135</td><td>160</td><td>0</td><td>0</td><td>150</td><td>0</td><td>2</td><td>2</td><td>-9</td><td>-9</td><td>3</td></tr>\n",
       "</tbody>\n",
       "</table>\n"
      ],
      "text/latex": [
       "A tibble: 220 × 14\n",
       "\\begin{tabular}{llllllllllllll}\n",
       " age & sex & cp & trestbps & chol & fbs & restecg & thalach & exang & oldpeak & slope & ca & thal & num\\\\\n",
       " <dbl> & <dbl> & <dbl> & <dbl> & <dbl> & <dbl> & <dbl> & <dbl> & <dbl> & <dbl> & <dbl> & <dbl> & <dbl> & <fct>\\\\\n",
       "\\hline\n",
       "\t 40 & 1 & 2 & 140 & 289 & 0 & 0 & 172 & 0 & 0 & -9 & -9 & -9 & 0\\\\\n",
       "\t 37 & 1 & 2 & 130 & 283 & 0 & 1 &  98 & 0 & 0 & -9 & -9 & -9 & 0\\\\\n",
       "\t 54 & 1 & 3 & 150 &  -9 & 0 & 0 & 122 & 0 & 0 & -9 & -9 & -9 & 0\\\\\n",
       "\t ⋮ & ⋮ & ⋮ & ⋮ & ⋮ & ⋮ & ⋮ & ⋮ & ⋮ & ⋮ & ⋮ & ⋮ & ⋮ & ⋮\\\\\n",
       "\t 54 & 1 & 4 & 130 & 242 & 0 & 0 &  91 & 1 & 1 & 2 & -9 & -9 & 2\\\\\n",
       "\t 55 & 1 & 4 & 140 & 201 & 0 & 0 & 130 & 1 & 3 & 2 & -9 & -9 & 1\\\\\n",
       "\t 51 & 1 & 3 & 135 & 160 & 0 & 0 & 150 & 0 & 2 & 2 & -9 & -9 & 3\\\\\n",
       "\\end{tabular}\n"
      ],
      "text/markdown": [
       "\n",
       "A tibble: 220 × 14\n",
       "\n",
       "| age &lt;dbl&gt; | sex &lt;dbl&gt; | cp &lt;dbl&gt; | trestbps &lt;dbl&gt; | chol &lt;dbl&gt; | fbs &lt;dbl&gt; | restecg &lt;dbl&gt; | thalach &lt;dbl&gt; | exang &lt;dbl&gt; | oldpeak &lt;dbl&gt; | slope &lt;dbl&gt; | ca &lt;dbl&gt; | thal &lt;dbl&gt; | num &lt;fct&gt; |\n",
       "|---|---|---|---|---|---|---|---|---|---|---|---|---|---|\n",
       "| 40 | 1 | 2 | 140 | 289 | 0 | 0 | 172 | 0 | 0 | -9 | -9 | -9 | 0 |\n",
       "| 37 | 1 | 2 | 130 | 283 | 0 | 1 |  98 | 0 | 0 | -9 | -9 | -9 | 0 |\n",
       "| 54 | 1 | 3 | 150 |  -9 | 0 | 0 | 122 | 0 | 0 | -9 | -9 | -9 | 0 |\n",
       "| ⋮ | ⋮ | ⋮ | ⋮ | ⋮ | ⋮ | ⋮ | ⋮ | ⋮ | ⋮ | ⋮ | ⋮ | ⋮ | ⋮ |\n",
       "| 54 | 1 | 4 | 130 | 242 | 0 | 0 |  91 | 1 | 1 | 2 | -9 | -9 | 2 |\n",
       "| 55 | 1 | 4 | 140 | 201 | 0 | 0 | 130 | 1 | 3 | 2 | -9 | -9 | 1 |\n",
       "| 51 | 1 | 3 | 135 | 160 | 0 | 0 | 150 | 0 | 2 | 2 | -9 | -9 | 3 |\n",
       "\n"
      ],
      "text/plain": [
       "    age sex cp trestbps chol fbs restecg thalach exang oldpeak slope ca thal\n",
       "1   40  1   2  140      289  0   0       172     0     0       -9    -9 -9  \n",
       "2   37  1   2  130      283  0   1        98     0     0       -9    -9 -9  \n",
       "3   54  1   3  150       -9  0   0       122     0     0       -9    -9 -9  \n",
       "⋮   ⋮   ⋮   ⋮  ⋮        ⋮    ⋮   ⋮       ⋮       ⋮     ⋮       ⋮     ⋮  ⋮   \n",
       "218 54  1   4  130      242  0   0        91     1     1       2     -9 -9  \n",
       "219 55  1   4  140      201  0   0       130     1     3       2     -9 -9  \n",
       "220 51  1   3  135      160  0   0       150     0     2       2     -9 -9  \n",
       "    num\n",
       "1   0  \n",
       "2   0  \n",
       "3   0  \n",
       "⋮   ⋮  \n",
       "218 2  \n",
       "219 1  \n",
       "220 3  "
      ]
     },
     "metadata": {},
     "output_type": "display_data"
    },
    {
     "data": {
      "text/html": [
       "<table class=\"dataframe\">\n",
       "<caption>A tibble: 74 × 14</caption>\n",
       "<thead>\n",
       "\t<tr><th scope=col>age</th><th scope=col>sex</th><th scope=col>cp</th><th scope=col>trestbps</th><th scope=col>chol</th><th scope=col>fbs</th><th scope=col>restecg</th><th scope=col>thalach</th><th scope=col>exang</th><th scope=col>oldpeak</th><th scope=col>slope</th><th scope=col>ca</th><th scope=col>thal</th><th scope=col>num</th></tr>\n",
       "\t<tr><th scope=col>&lt;dbl&gt;</th><th scope=col>&lt;dbl&gt;</th><th scope=col>&lt;dbl&gt;</th><th scope=col>&lt;dbl&gt;</th><th scope=col>&lt;dbl&gt;</th><th scope=col>&lt;dbl&gt;</th><th scope=col>&lt;dbl&gt;</th><th scope=col>&lt;dbl&gt;</th><th scope=col>&lt;dbl&gt;</th><th scope=col>&lt;dbl&gt;</th><th scope=col>&lt;dbl&gt;</th><th scope=col>&lt;dbl&gt;</th><th scope=col>&lt;dbl&gt;</th><th scope=col>&lt;fct&gt;</th></tr>\n",
       "</thead>\n",
       "<tbody>\n",
       "\t<tr><td>39</td><td>1</td><td>3</td><td>120</td><td>339</td><td>0</td><td>0</td><td>170</td><td>0</td><td>0</td><td>-9</td><td>-9</td><td>-9</td><td>0</td></tr>\n",
       "\t<tr><td>54</td><td>1</td><td>2</td><td>110</td><td>208</td><td>0</td><td>0</td><td>142</td><td>0</td><td>0</td><td>-9</td><td>-9</td><td>-9</td><td>0</td></tr>\n",
       "\t<tr><td>48</td><td>0</td><td>2</td><td>120</td><td>284</td><td>0</td><td>0</td><td>120</td><td>0</td><td>0</td><td>-9</td><td>-9</td><td>-9</td><td>0</td></tr>\n",
       "\t<tr><td>⋮</td><td>⋮</td><td>⋮</td><td>⋮</td><td>⋮</td><td>⋮</td><td>⋮</td><td>⋮</td><td>⋮</td><td>⋮</td><td>⋮</td><td>⋮</td><td>⋮</td><td>⋮</td></tr>\n",
       "\t<tr><td>51</td><td>0</td><td>3</td><td>130</td><td>220</td><td>0</td><td>0</td><td>160</td><td>1</td><td>2</td><td> 1</td><td>-9</td><td>-9</td><td>0</td></tr>\n",
       "\t<tr><td>51</td><td>0</td><td>3</td><td>110</td><td>190</td><td>0</td><td>0</td><td>120</td><td>0</td><td>0</td><td>-9</td><td>-9</td><td>-9</td><td>0</td></tr>\n",
       "\t<tr><td>53</td><td>1</td><td>2</td><td>120</td><td> -9</td><td>0</td><td>0</td><td>132</td><td>0</td><td>0</td><td>-9</td><td>-9</td><td>-9</td><td>0</td></tr>\n",
       "</tbody>\n",
       "</table>\n"
      ],
      "text/latex": [
       "A tibble: 74 × 14\n",
       "\\begin{tabular}{llllllllllllll}\n",
       " age & sex & cp & trestbps & chol & fbs & restecg & thalach & exang & oldpeak & slope & ca & thal & num\\\\\n",
       " <dbl> & <dbl> & <dbl> & <dbl> & <dbl> & <dbl> & <dbl> & <dbl> & <dbl> & <dbl> & <dbl> & <dbl> & <dbl> & <fct>\\\\\n",
       "\\hline\n",
       "\t 39 & 1 & 3 & 120 & 339 & 0 & 0 & 170 & 0 & 0 & -9 & -9 & -9 & 0\\\\\n",
       "\t 54 & 1 & 2 & 110 & 208 & 0 & 0 & 142 & 0 & 0 & -9 & -9 & -9 & 0\\\\\n",
       "\t 48 & 0 & 2 & 120 & 284 & 0 & 0 & 120 & 0 & 0 & -9 & -9 & -9 & 0\\\\\n",
       "\t ⋮ & ⋮ & ⋮ & ⋮ & ⋮ & ⋮ & ⋮ & ⋮ & ⋮ & ⋮ & ⋮ & ⋮ & ⋮ & ⋮\\\\\n",
       "\t 51 & 0 & 3 & 130 & 220 & 0 & 0 & 160 & 1 & 2 &  1 & -9 & -9 & 0\\\\\n",
       "\t 51 & 0 & 3 & 110 & 190 & 0 & 0 & 120 & 0 & 0 & -9 & -9 & -9 & 0\\\\\n",
       "\t 53 & 1 & 2 & 120 &  -9 & 0 & 0 & 132 & 0 & 0 & -9 & -9 & -9 & 0\\\\\n",
       "\\end{tabular}\n"
      ],
      "text/markdown": [
       "\n",
       "A tibble: 74 × 14\n",
       "\n",
       "| age &lt;dbl&gt; | sex &lt;dbl&gt; | cp &lt;dbl&gt; | trestbps &lt;dbl&gt; | chol &lt;dbl&gt; | fbs &lt;dbl&gt; | restecg &lt;dbl&gt; | thalach &lt;dbl&gt; | exang &lt;dbl&gt; | oldpeak &lt;dbl&gt; | slope &lt;dbl&gt; | ca &lt;dbl&gt; | thal &lt;dbl&gt; | num &lt;fct&gt; |\n",
       "|---|---|---|---|---|---|---|---|---|---|---|---|---|---|\n",
       "| 39 | 1 | 3 | 120 | 339 | 0 | 0 | 170 | 0 | 0 | -9 | -9 | -9 | 0 |\n",
       "| 54 | 1 | 2 | 110 | 208 | 0 | 0 | 142 | 0 | 0 | -9 | -9 | -9 | 0 |\n",
       "| 48 | 0 | 2 | 120 | 284 | 0 | 0 | 120 | 0 | 0 | -9 | -9 | -9 | 0 |\n",
       "| ⋮ | ⋮ | ⋮ | ⋮ | ⋮ | ⋮ | ⋮ | ⋮ | ⋮ | ⋮ | ⋮ | ⋮ | ⋮ | ⋮ |\n",
       "| 51 | 0 | 3 | 130 | 220 | 0 | 0 | 160 | 1 | 2 |  1 | -9 | -9 | 0 |\n",
       "| 51 | 0 | 3 | 110 | 190 | 0 | 0 | 120 | 0 | 0 | -9 | -9 | -9 | 0 |\n",
       "| 53 | 1 | 2 | 120 |  -9 | 0 | 0 | 132 | 0 | 0 | -9 | -9 | -9 | 0 |\n",
       "\n"
      ],
      "text/plain": [
       "   age sex cp trestbps chol fbs restecg thalach exang oldpeak slope ca thal num\n",
       "1  39  1   3  120      339  0   0       170     0     0       -9    -9 -9   0  \n",
       "2  54  1   2  110      208  0   0       142     0     0       -9    -9 -9   0  \n",
       "3  48  0   2  120      284  0   0       120     0     0       -9    -9 -9   0  \n",
       "⋮  ⋮   ⋮   ⋮  ⋮        ⋮    ⋮   ⋮       ⋮       ⋮     ⋮       ⋮     ⋮  ⋮    ⋮  \n",
       "72 51  0   3  130      220  0   0       160     1     2        1    -9 -9   0  \n",
       "73 51  0   3  110      190  0   0       120     0     0       -9    -9 -9   0  \n",
       "74 53  1   2  120       -9  0   0       132     0     0       -9    -9 -9   0  "
      ]
     },
     "metadata": {},
     "output_type": "display_data"
    }
   ],
   "source": [
    "#split data into training and testing groups\n",
    "heart_disease_split <- initial_split(heart_disease_data, prop = .75, strata = num)\n",
    "                        \n",
    "heart_disease_training <- training(heart_disease_split)\n",
    "                        \n",
    "heart_disease_testing <- testing(heart_disease_split)\n",
    "\n",
    "heart_disease_training\n",
    "heart_disease_testing"
   ]
  },
  {
   "cell_type": "code",
   "execution_count": 43,
   "id": "74b30f4e-7ef3-4152-8eab-5f2d8285ab31",
   "metadata": {},
   "outputs": [
    {
     "data": {
      "image/png": "[encoded data removed]",
      "text/plain": [
       "plot without title"
      ]
     },
     "metadata": {
      "image/png": {
       "height": 420,
       "width": 420
      }
     },
     "output_type": "display_data"
    },
    {
     "data": {
      "image/png": "[encoded data removed]",
      "text/plain": [
       "plot without title"
      ]
     },
     "metadata": {
      "image/png": {
       "height": 420,
       "width": 420
      }
     },
     "output_type": "display_data"
    }
   ],
   "source": [
    "age_hist <- heart_disease_training |>\n",
    "            ggplot(aes(x = age, fill = num)) +\n",
    "            geom_histogram(bins =10, position = \"identity\") +\n",
    "            scale_fill_brewer(palette = \"Dark2\") \n",
    "age_hist\n",
    "\n",
    "sex_hist <-  heart_disease_training |>\n",
    "            ggplot(aes(x = sex, fill = num)) +\n",
    "            geom_bar(position = \"identity\") +\n",
    "            scale_fill_brewer(palette = \"Dark2\") \n",
    "sex_hist"
   ]
  },
  {
   "cell_type": "code",
   "execution_count": 45,
   "id": "2208549d-4010-4376-955e-23ec71ac052f",
   "metadata": {},
   "outputs": [
    {
     "name": "stderr",
     "output_type": "stream",
     "text": [
      "`stat_bin()` using `bins = 30`. Pick better value with `binwidth`.\n",
      "\n"
     ]
    },
    {
     "ename": "ERROR",
     "evalue": "Error in factor(heart_disease_training, sex, labels = c(\"male\", \"female\")): object 'sex' not found\n",
     "output_type": "error",
     "traceback": [
      "Error in factor(heart_disease_training, sex, labels = c(\"male\", \"female\")): object 'sex' not found\nTraceback:\n",
      "1. factor(heart_disease_training, sex, labels = c(\"male\", \"female\"))"
     ]
    },
    {
     "data": {
      "image/png": "[encoded data removed]",
      "text/plain": [
       "plot without title"
      ]
     },
     "metadata": {
      "image/png": {
       "height": 420,
       "width": 420
      }
     },
     "output_type": "display_data"
    }
   ],
   "source": [
    "age_hist_per_num <- ggplot(heart_disease_training, aes(x = age))+\n",
    "                    geom_histogram(fill = \"white\", color = \"black\")+\n",
    "                    facet_grid(num~., scales = \"free\")\n",
    "age_hist_per_num\n",
    "\n",
    "sex_f <- heart_disease_training |>\n",
    "        factor(sex, labels = c(\"male\", \"female\"))\n",
    "               \n",
    "sex_hist_per_num <- heart_disease_training |> \n",
    "                    ggplot(aes(x = num, fill = sex_f))+\n",
    "                    geom_histogram(position = \"identity\")\n",
    "sex_hist_per_num"
   ]
  },
  {
   "cell_type": "markdown",
   "id": "083fcb60-451c-4c0c-b065-d7b3dffcceb7",
   "metadata": {},
   "source": [
    "Methods:\n",
    "- By creating a histogram, the distribution of all columns/variables in our data set will be easier to interpret. This visualization will be especially crucial in determining what variables our group will choose to keep or remove from our data set. The bars that appear to have the largest contraction factor to heart disease will be the variables we choose for data analysis further into the project. \n"
   ]
  },
  {
   "cell_type": "markdown",
   "id": "d8f4f34e-c3b3-438f-85f0-28aeb5d14e69",
   "metadata": {},
   "source": [
    "Decsribe at least one way you will visualize the result:\n",
    "- In our final model, we will use a variation of scatter plots and tables to communicate the predicted classification given via k-nearest neighbors. Scatterplots will be used to determine if two variables can be used to redact heart disease. Tables will be used to display predicted values aside actual values, we can then use this data to measure the accuracy of our model/classifier. \n"
   ]
  },
  {
   "cell_type": "markdown",
   "id": "7b10e976-3f4a-4366-bc34-442f24e53985",
   "metadata": {},
   "source": [
    "Expected outcomes and significance:\n",
    "- What do you expect to find?\n",
    "    We expect that individuals who are older, have higher cholesterol, high blood pressure, high heart rates, etc. will be predicted to have heart disease, compared to those who are younger with more normal levels of cholesterol and heart rates, ect. \n",
    "- What impact could such findings have?\n",
    "    It can allow for quicker diagnosis of heart disease and also help predict whether someone is at risk of heart disease, so they can start taking preventative measures to ensure they do not experience heart disease.\n",
    "- What future questions could this lead to?\n",
    "    What other disease could be predicted by looking at common symptoms and potential causes? \n",
    "    Is heart disease more prevalent in those with higher heart rates compared to lower heart rates? "
   ]
  },
  {
   "cell_type": "code",
   "execution_count": null,
   "id": "53a69576-419a-44e2-8e0a-369d2712a837",
   "metadata": {},
   "outputs": [],
   "source": []
  }
 ],
 "metadata": {
  "kernelspec": {
   "display_name": "R",
   "language": "R",
   "name": "ir"
  },
  "language_info": {
   "codemirror_mode": "r",
   "file_extension": ".r",
   "mimetype": "text/x-r-source",
   "name": "R",
   "pygments_lexer": "r",
   "version": "4.1.3"
  }
 },
 "nbformat": 4,
 "nbformat_minor": 5
}
