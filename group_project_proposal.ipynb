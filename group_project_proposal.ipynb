{
 "cells": [
  {
   "cell_type": "markdown",
   "id": "f33a7d45-dbce-42a8-9032-e68bf5f32c20",
   "metadata": {},
   "source": [
    "Group Project Proposal : Heart Disease\n",
    "-"
   ]
  },
  {
   "cell_type": "markdown",
   "id": "95af5e30-a261-4210-8ab9-c79308de4c7e",
   "metadata": {},
   "source": [
    "Introduction:\n",
    "- background info\n",
    "- question\n",
    "- identify and describe data set"
   ]
  },
  {
   "cell_type": "markdown",
   "id": "7dcc686e-7f33-47a8-93e6-0a05908fd207",
   "metadata": {},
   "source": [
    "Read the data into R, clean, and wrangle the data"
   ]
  },
  {
   "cell_type": "code",
   "execution_count": 4,
   "id": "9258a88b-3bda-4c7f-9175-556684eae05f",
   "metadata": {},
   "outputs": [
    {
     "name": "stderr",
     "output_type": "stream",
     "text": [
      "── \u001b[1mAttaching packages\u001b[22m ─────────────────────────────────────── tidyverse 1.3.1 ──\n",
      "\n",
      "\u001b[32m✔\u001b[39m \u001b[34mggplot2\u001b[39m 3.3.6     \u001b[32m✔\u001b[39m \u001b[34mpurrr  \u001b[39m 0.3.4\n",
      "\u001b[32m✔\u001b[39m \u001b[34mtibble \u001b[39m 3.1.7     \u001b[32m✔\u001b[39m \u001b[34mdplyr  \u001b[39m 1.0.9\n",
      "\u001b[32m✔\u001b[39m \u001b[34mtidyr  \u001b[39m 1.2.0     \u001b[32m✔\u001b[39m \u001b[34mstringr\u001b[39m 1.4.0\n",
      "\u001b[32m✔\u001b[39m \u001b[34mreadr  \u001b[39m 2.1.2     \u001b[32m✔\u001b[39m \u001b[34mforcats\u001b[39m 0.5.1\n",
      "\n",
      "── \u001b[1mConflicts\u001b[22m ────────────────────────────────────────── tidyverse_conflicts() ──\n",
      "\u001b[31m✖\u001b[39m \u001b[34mdplyr\u001b[39m::\u001b[32mfilter()\u001b[39m masks \u001b[34mstats\u001b[39m::filter()\n",
      "\u001b[31m✖\u001b[39m \u001b[34mdplyr\u001b[39m::\u001b[32mlag()\u001b[39m    masks \u001b[34mstats\u001b[39m::lag()\n",
      "\n",
      "── \u001b[1mAttaching packages\u001b[22m ────────────────────────────────────── tidymodels 1.0.0 ──\n",
      "\n",
      "\u001b[32m✔\u001b[39m \u001b[34mbroom       \u001b[39m 1.0.0     \u001b[32m✔\u001b[39m \u001b[34mrsample     \u001b[39m 1.0.0\n",
      "\u001b[32m✔\u001b[39m \u001b[34mdials       \u001b[39m 1.0.0     \u001b[32m✔\u001b[39m \u001b[34mtune        \u001b[39m 1.0.0\n",
      "\u001b[32m✔\u001b[39m \u001b[34minfer       \u001b[39m 1.0.2     \u001b[32m✔\u001b[39m \u001b[34mworkflows   \u001b[39m 1.0.0\n",
      "\u001b[32m✔\u001b[39m \u001b[34mmodeldata   \u001b[39m 1.0.0     \u001b[32m✔\u001b[39m \u001b[34mworkflowsets\u001b[39m 1.0.0\n",
      "\u001b[32m✔\u001b[39m \u001b[34mparsnip     \u001b[39m 1.0.0     \u001b[32m✔\u001b[39m \u001b[34myardstick   \u001b[39m 1.0.0\n",
      "\u001b[32m✔\u001b[39m \u001b[34mrecipes     \u001b[39m 1.0.1     \n",
      "\n",
      "── \u001b[1mConflicts\u001b[22m ───────────────────────────────────────── tidymodels_conflicts() ──\n",
      "\u001b[31m✖\u001b[39m \u001b[34mscales\u001b[39m::\u001b[32mdiscard()\u001b[39m masks \u001b[34mpurrr\u001b[39m::discard()\n",
      "\u001b[31m✖\u001b[39m \u001b[34mdplyr\u001b[39m::\u001b[32mfilter()\u001b[39m   masks \u001b[34mstats\u001b[39m::filter()\n",
      "\u001b[31m✖\u001b[39m \u001b[34mrecipes\u001b[39m::\u001b[32mfixed()\u001b[39m  masks \u001b[34mstringr\u001b[39m::fixed()\n",
      "\u001b[31m✖\u001b[39m \u001b[34mdplyr\u001b[39m::\u001b[32mlag()\u001b[39m      masks \u001b[34mstats\u001b[39m::lag()\n",
      "\u001b[31m✖\u001b[39m \u001b[34myardstick\u001b[39m::\u001b[32mspec()\u001b[39m masks \u001b[34mreadr\u001b[39m::spec()\n",
      "\u001b[31m✖\u001b[39m \u001b[34mrecipes\u001b[39m::\u001b[32mstep()\u001b[39m   masks \u001b[34mstats\u001b[39m::step()\n",
      "\u001b[34m•\u001b[39m Dig deeper into tidy modeling with R at \u001b[32mhttps://www.tmwr.org\u001b[39m\n",
      "\n",
      "Warning message in file(filename, \"r\", encoding = encoding):\n",
      "“cannot open file 'tests.R': No such file or directory”\n"
     ]
    },
    {
     "ename": "ERROR",
     "evalue": "Error in file(filename, \"r\", encoding = encoding): cannot open the connection\n",
     "output_type": "error",
     "traceback": [
      "Error in file(filename, \"r\", encoding = encoding): cannot open the connection\nTraceback:\n",
      "1. source(\"tests.R\")",
      "2. file(filename, \"r\", encoding = encoding)"
     ]
    }
   ],
   "source": [
    "#code will go here\n",
    "library(tidyverse)\n",
    "library(repr)\n",
    "library(tidymodels)\n",
    "options(repr.matrix.max.rows = 6)\n",
    "source('tests.R')\n",
    "source(\"cleanup.R\")"
   ]
  },
  {
   "cell_type": "code",
   "execution_count": 8,
   "id": "36127e42-8229-4b16-b595-d06a1b017d12",
   "metadata": {},
   "outputs": [
    {
     "name": "stderr",
     "output_type": "stream",
     "text": [
      "\u001b[1mRows: \u001b[22m\u001b[34m294\u001b[39m \u001b[1mColumns: \u001b[22m\u001b[34m1\u001b[39m\n",
      "\u001b[36m──\u001b[39m \u001b[1mColumn specification\u001b[22m \u001b[36m────────────────────────────────────────────────────────\u001b[39m\n",
      "\u001b[1mDelimiter:\u001b[22m \"\\t\"\n",
      "\u001b[31mchr\u001b[39m (1): X1\n",
      "\n",
      "\u001b[36mℹ\u001b[39m Use `spec()` to retrieve the full column specification for this data.\n",
      "\u001b[36mℹ\u001b[39m Specify the column types or set `show_col_types = FALSE` to quiet this message.\n"
     ]
    },
    {
     "data": {
      "text/html": [
       "<table class=\"dataframe\">\n",
       "<caption>A spec_tbl_df: 294 × 1</caption>\n",
       "<thead>\n",
       "\t<tr><th scope=col>X1</th></tr>\n",
       "\t<tr><th scope=col>&lt;chr&gt;</th></tr>\n",
       "</thead>\n",
       "<tbody>\n",
       "\t<tr><td>40 1 2 140 289 0 0 172 0 0 -9 -9 -9 0</td></tr>\n",
       "\t<tr><td>49 0 3 160 180 0 0 156 0 1 2 -9 -9 1 </td></tr>\n",
       "\t<tr><td>37 1 2 130 283 0 1 98 0 0 -9 -9 -9 0 </td></tr>\n",
       "\t<tr><td>⋮</td></tr>\n",
       "\t<tr><td>48 1 3 110 211 0 0 138 0 0 -9 -9 6 0 </td></tr>\n",
       "\t<tr><td>47 0 2 140 257 0 0 135 0 1 1 -9 -9 0 </td></tr>\n",
       "\t<tr><td>53 1 4 130 182 0 0 148 0 0 -9 -9 -9 0</td></tr>\n",
       "</tbody>\n",
       "</table>\n"
      ],
      "text/latex": [
       "A spec\\_tbl\\_df: 294 × 1\n",
       "\\begin{tabular}{l}\n",
       " X1\\\\\n",
       " <chr>\\\\\n",
       "\\hline\n",
       "\t 40 1 2 140 289 0 0 172 0 0 -9 -9 -9 0\\\\\n",
       "\t 49 0 3 160 180 0 0 156 0 1 2 -9 -9 1 \\\\\n",
       "\t 37 1 2 130 283 0 1 98 0 0 -9 -9 -9 0 \\\\\n",
       "\t ⋮\\\\\n",
       "\t 48 1 3 110 211 0 0 138 0 0 -9 -9 6 0 \\\\\n",
       "\t 47 0 2 140 257 0 0 135 0 1 1 -9 -9 0 \\\\\n",
       "\t 53 1 4 130 182 0 0 148 0 0 -9 -9 -9 0\\\\\n",
       "\\end{tabular}\n"
      ],
      "text/markdown": [
       "\n",
       "A spec_tbl_df: 294 × 1\n",
       "\n",
       "| X1 &lt;chr&gt; |\n",
       "|---|\n",
       "| 40 1 2 140 289 0 0 172 0 0 -9 -9 -9 0 |\n",
       "| 49 0 3 160 180 0 0 156 0 1 2 -9 -9 1  |\n",
       "| 37 1 2 130 283 0 1 98 0 0 -9 -9 -9 0  |\n",
       "| ⋮ |\n",
       "| 48 1 3 110 211 0 0 138 0 0 -9 -9 6 0  |\n",
       "| 47 0 2 140 257 0 0 135 0 1 1 -9 -9 0  |\n",
       "| 53 1 4 130 182 0 0 148 0 0 -9 -9 -9 0 |\n",
       "\n"
      ],
      "text/plain": [
       "    X1                                   \n",
       "1   40 1 2 140 289 0 0 172 0 0 -9 -9 -9 0\n",
       "2   49 0 3 160 180 0 0 156 0 1 2 -9 -9 1 \n",
       "3   37 1 2 130 283 0 1 98 0 0 -9 -9 -9 0 \n",
       "⋮   ⋮                                    \n",
       "292 48 1 3 110 211 0 0 138 0 0 -9 -9 6 0 \n",
       "293 47 0 2 140 257 0 0 135 0 1 1 -9 -9 0 \n",
       "294 53 1 4 130 182 0 0 148 0 0 -9 -9 -9 0"
      ]
     },
     "metadata": {},
     "output_type": "display_data"
    }
   ],
   "source": [
    "#read data into r\n",
    "heart_disease_data <- read_tsv(\"https://archive.ics.uci.edu/ml/machine-learning-databases/heart-disease/reprocessed.hungarian.data\", col_names = FALSE)\n",
    "heart_disease_data"
   ]
  },
  {
   "cell_type": "markdown",
   "id": "083fcb60-451c-4c0c-b065-d7b3dffcceb7",
   "metadata": {},
   "source": [
    "Methods:\n",
    "- explain how you will conduct the analysis and which variables will be used"
   ]
  },
  {
   "cell_type": "markdown",
   "id": "d8f4f34e-c3b3-438f-85f0-28aeb5d14e69",
   "metadata": {},
   "source": [
    "Decsribe at least one way you will visualize the result:\n",
    "- idk"
   ]
  },
  {
   "cell_type": "markdown",
   "id": "7b10e976-3f4a-4366-bc34-442f24e53985",
   "metadata": {},
   "source": [
    "Expected outcomes and significance:\n",
    "- What do you expect to find?\n",
    "- What impact could such findings have?\n",
    "- What future questions could this lead to?"
   ]
  },
  {
   "cell_type": "code",
   "execution_count": null,
   "id": "b5161088-081e-4a52-be34-fe5aff7c8994",
   "metadata": {},
   "outputs": [],
   "source": []
  }
 ],
 "metadata": {
  "kernelspec": {
   "display_name": "R",
   "language": "R",
   "name": "ir"
  },
  "language_info": {
   "codemirror_mode": "r",
   "file_extension": ".r",
   "mimetype": "text/x-r-source",
   "name": "R",
   "pygments_lexer": "r",
   "version": "4.1.3"
  }
 },
 "nbformat": 4,
 "nbformat_minor": 5
}
